{
 "cells": [
  {
   "cell_type": "code",
   "execution_count": 9,
   "id": "75361c9c",
   "metadata": {},
   "outputs": [],
   "source": [
    "import pandas as pd\n",
    "import numpy as np\n",
    "from gensim.models import Word2Vec\n",
    "from nltk.tokenize import word_tokenize\n",
    "from tqdm import tqdm\n",
    "import datetime\n",
    "from sklearn.decomposition import PCA\n",
    "import matplotlib.pyplot as plt\n",
    "import spacy\n",
    "from nltk.corpus import wordnet\n",
    "from ruwordnet import RuWordNet\n",
    "import requests\n",
    "from bs4 import BeautifulSoup\n",
    "from string import punctuation"
   ]
  },
  {
   "cell_type": "code",
   "execution_count": 2,
   "id": "163fd3bf",
   "metadata": {},
   "outputs": [],
   "source": [
    "data = pd.read_csv(\"Results/NamedEntities.csv\",encoding=\"utf-16\")\n",
    "data = data.drop(\"Unnamed: 0\",axis=1)\n",
    "data[\"Datetime\"] = pd.to_datetime(data[\"Datetime\"])\n",
    "nlp = spacy.load(\"ru_core_news_md\")"
   ]
  },
  {
   "cell_type": "markdown",
   "id": "b6099b13",
   "metadata": {},
   "source": [
    "## Matching pipeline"
   ]
  },
  {
   "cell_type": "code",
   "execution_count": 28,
   "id": "e3406eb8",
   "metadata": {},
   "outputs": [],
   "source": [
    "def overlap_coeff(nes1,nes2):\n",
    "    nes1 = set(nes1)\n",
    "    nes2 = set(nes2)\n",
    "    overlap = nes1 & nes2\n",
    "    return len(overlap) / max([len(nes1),len(nes2)]) if  max([len(nes1),len(nes2)]) > 0 else 0\n",
    " \n",
    "def event_matching_pipeline(date, timespan, keyword, dataset_a, dataset_b):\n",
    "    subset_a = dataset_a[(dataset_a.Datetime > date - datetime.timedelta(days=2)) & (dataset_a.Datetime < date + datetime.timedelta(days=2))]\n",
    "    subset_a = subset_a[~subset_a.Text.isnull()]\n",
    "    subset_a = subset_a[subset_a.Text.str.contains(keyword, case=False)]\n",
    "\n",
    "    subset_b = dataset_b[(dataset_b.Datetime > date - datetime.timedelta(days=2)) & (dataset_b.Datetime < date + datetime.timedelta(days=2))]\n",
    "    subset_b = subset_b[~subset_b.Text.isnull()] \n",
    "    subset_b = subset_b[subset_b.Text.str.contains(keyword, case=False)]\n",
    " \n",
    "    sentence_matching_scores = []\n",
    "    for sent_a in tqdm(subset_a.Text.values):\n",
    "        sent_a_keywords = []\n",
    "        doc_a = nlp(sent_a)\n",
    "        for token_a in doc_a:\n",
    "            if token_a.pos_ in ['PROPN']:\n",
    "                sent_a_keywords.append(token_a.lemma_)\n",
    " \n",
    "        for sent_b in subset_b.Text.values:\n",
    "            sentence_matching_scores.append([])\n",
    "            doc_b = nlp(sent_b)\n",
    "            sent_b_keywords = []\n",
    "            for token_b in doc_b:\n",
    "                if token_b.pos_ in ['PROPN']:\n",
    "                    sent_b_keywords.append(token_b.lemma_)\n",
    "            sentence_matching_scores[-1].append([sent_a, sent_b, sent_a_keywords, sent_b_keywords, overlap_coeff(sent_a_keywords, sent_b_keywords)])\n",
    " \n",
    "    return sentence_matching_scores\n",
    "\n",
    "\n",
    "def get_pair(matching_results):\n",
    "    top_score = 0\n",
    "    a_sent = None\n",
    "    b_sent = None\n",
    "    for i in range(len(matching_results)):\n",
    "        if results[i][0][-1] > top_score:\n",
    "            top_score = results[i][0][-1]\n",
    "            a_sent = results[i][0][0]\n",
    "            b_sent = results[i][0][1]\n",
    "    return a_sent, b_sent"
   ]
  },
  {
   "cell_type": "markdown",
   "id": "784a80a3",
   "metadata": {},
   "source": [
    "## Word2Vec models training"
   ]
  },
  {
   "cell_type": "code",
   "execution_count": 15,
   "id": "3ac8c16f",
   "metadata": {},
   "outputs": [],
   "source": [
    "data_rus = data.loc[data[\"Country\"] == \"Russia\"]\n",
    "data_ukr = data.loc[data[\"Country\"] == \"Ukraine\"]"
   ]
  },
  {
   "cell_type": "code",
   "execution_count": 16,
   "id": "4fe36745",
   "metadata": {},
   "outputs": [],
   "source": [
    "# Preparing texts\n",
    "def preprocess(data):\n",
    "    texts = []\n",
    "    for i,row in tqdm(data.iterrows()):\n",
    "        text = row[\"Text\"]\n",
    "        if type(text) == float:\n",
    "            continue\n",
    "        tokenized = word_tokenize(text)\n",
    "        texts.append(tokenized)\n",
    "    return texts"
   ]
  },
  {
   "cell_type": "code",
   "execution_count": 17,
   "id": "83762fa7",
   "metadata": {},
   "outputs": [
    {
     "name": "stderr",
     "output_type": "stream",
     "text": [
      "73861it [00:38, 1922.61it/s]\n",
      "146543it [01:11, 2048.33it/s]\n"
     ]
    }
   ],
   "source": [
    "# Preprocess\n",
    "texts_rus = preprocess(data_rus)\n",
    "texts_ukr = preprocess(data_ukr)"
   ]
  },
  {
   "cell_type": "code",
   "execution_count": 18,
   "id": "cb534a99",
   "metadata": {},
   "outputs": [],
   "source": [
    "# Trainig models\n",
    "model_rus = Word2Vec(sentences=texts_rus, vector_size=100, window=5, min_count=1, workers=4)\n",
    "model_ukr = Word2Vec(sentences=texts_ukr, vector_size=100, window=5, min_count=1, workers=4)"
   ]
  },
  {
   "cell_type": "markdown",
   "id": "02e47fb3",
   "metadata": {},
   "source": [
    "## Mean vectors"
   ]
  },
  {
   "cell_type": "code",
   "execution_count": 19,
   "id": "90be1442",
   "metadata": {},
   "outputs": [],
   "source": [
    "def getMeanVector(sent,model):\n",
    "    vecs = []\n",
    "    for word in word_tokenize(sent):\n",
    "        vecs.append(model.wv[word])\n",
    "    return np.mean(np.array(vecs),axis=0)\n",
    "\n",
    "\n",
    "def get_pair_vectors(a_sent, b_sent):\n",
    "    global model_ukr, model_rus\n",
    "    sent_a_vec = getMeanVector(a_sent,model_ukr)\n",
    "    sent_b_vec = getMeanVector(b_sent,model_rus)\n",
    "\n",
    "    return sent_a_vec, sent_b_vec\n",
    "\n",
    "\n",
    "\n"
   ]
  },
  {
   "cell_type": "markdown",
   "id": "332cc5f4",
   "metadata": {},
   "source": [
    "## Antonyms"
   ]
  },
  {
   "cell_type": "code",
   "execution_count": 20,
   "id": "262032ff",
   "metadata": {},
   "outputs": [],
   "source": [
    "def get_antonyms_from_parser(word):\n",
    "    URL = \"https://sinonim.org/a/\"+word\n",
    "    headers = {\"User-Agent\":\"Mozilla/5.0 (Windows NT 10.0; Win64; x64) AppleWebKit/537.36 (KHTML, like Gecko) Chrome/104.0.0.0 Safari/537.36\"}\n",
    "    page = requests.get(URL,headers=headers)\n",
    "    soup = BeautifulSoup(page.content, \"html.parser\")\n",
    "    result = []\n",
    "    i = 1\n",
    "    while True:\n",
    "        try:\n",
    "            result.append(soup.find(id=\"as\"+str(i)).text)\n",
    "            i += 1\n",
    "        except:\n",
    "            break\n",
    "\n",
    "    return result\n",
    "\n",
    "def get_antonyms_score(sent_a,sent_b):\n",
    "    score = 0\n",
    "    words_a = word_tokenize(sent_a)\n",
    "    words_b = word_tokenize(sent_b)\n",
    "    \n",
    "    for word_a in tqdm(words_a):\n",
    "        if word_a in punctuation:\n",
    "            continue\n",
    "        if word_a.isdigit():\n",
    "            continue\n",
    "        antonyms = get_antonyms_from_parser(word_a)\n",
    "        for antonym in antonyms:\n",
    "            if antonym in words_b:\n",
    "                score += 1\n",
    "\n",
    "    return score"
   ]
  },
  {
   "cell_type": "code",
   "execution_count": 23,
   "id": "96cb43a1",
   "metadata": {},
   "outputs": [
    {
     "name": "stdout",
     "output_type": "stream",
     "text": [
      "[]\n"
     ]
    }
   ],
   "source": [
    "# Example\n",
    "print(get_antonyms_from_parser(\"быстрый\"))"
   ]
  },
  {
   "cell_type": "markdown",
   "id": "b3aac854",
   "metadata": {},
   "source": [
    "## Main flow"
   ]
  },
  {
   "cell_type": "code",
   "execution_count": 29,
   "id": "2913e388",
   "metadata": {},
   "outputs": [
    {
     "name": "stdout",
     "output_type": "stream",
     "text": [
      "Topic number 1\n",
      "Matching events..\n"
     ]
    },
    {
     "name": "stderr",
     "output_type": "stream",
     "text": [
      "100%|██████████████████████████████████████████████████████████████████████████████████| 81/81 [01:22<00:00,  1.02s/it]\n"
     ]
    },
    {
     "name": "stdout",
     "output_type": "stream",
     "text": [
      "Getting vectors..\n",
      "Antonyms score..\n"
     ]
    },
    {
     "name": "stderr",
     "output_type": "stream",
     "text": [
      "100%|██████████████████████████████████████████████████████████████████████████████████| 53/53 [00:03<00:00, 15.51it/s]\n"
     ]
    }
   ],
   "source": [
    "# Testing set\n",
    "keywords = [\"Буча\"]\n",
    "dates = [[2022, 4, 2, 0, 0]]\n",
    "\n",
    "date = datetime.datetime(2022, 4, 2, 0, 0)\n",
    "timespan = 2\n",
    "dataset_a = data_ukr\n",
    "dataset_b = data_rus\n",
    "\n",
    "pairs_result = []\n",
    "\n",
    "for i in range(len(keywords)):\n",
    "    print(\"Topic number\",i+1)\n",
    "    keyword = keywords[i]\n",
    "    date = dates[i]\n",
    "    date = datetime.datetime(date[0], date[1], date[2], date[3], date[4])\n",
    "    print(\"Matching events..\")\n",
    "    matching_results = event_matching_pipeline(date, timespan, keyword, dataset_a, dataset_b)\n",
    "    a_sent, b_sent = get_pair(matching_results)\n",
    "    print(\"Getting vectors..\")\n",
    "    a_vec, b_vec = get_pair_vectors(a_sent, b_sent)\n",
    "    print(\"Antonyms score..\")\n",
    "    antonyms_score = get_antonyms_score(a_sent,b_sent)\n",
    "    pairs_result.append([a_sent,b_sent,a_vec,b_vec,antonyms_score])"
   ]
  },
  {
   "cell_type": "markdown",
   "id": "19ba16d2",
   "metadata": {},
   "source": [
    "#### Vectors visualization"
   ]
  },
  {
   "cell_type": "code",
   "execution_count": 33,
   "id": "abb89a0c",
   "metadata": {},
   "outputs": [
    {
     "data": {
      "image/png": "[encoded data removed]",
      "text/plain": [
       "<Figure size 432x288 with 1 Axes>"
      ]
     },
     "metadata": {
      "needs_background": "light"
     },
     "output_type": "display_data"
    }
   ],
   "source": [
    "a_vecs = []\n",
    "b_vecs = []\n",
    "for i in range(len(pairs_result)):\n",
    "    a_vecs.append(pairs_result[i][2])\n",
    "    b_vecs.append(pairs_result[i][3])\n",
    "    \n",
    "X = a_vecs + b_vecs\n",
    "pca = PCA(n_components=2)\n",
    "pca.fit(X)\n",
    "a_transformed_vecs = pca.transform(a_vecs)\n",
    "b_transformed_vecs = pca.transform(b_vecs)\n",
    "\n",
    "x,y = a_transformed_vecs.T\n",
    "plt.scatter(x,y,c=\"red\")\n",
    "\n",
    "x,y = b_transformed_vecs.T\n",
    "plt.scatter(x,y,c=\"blue\")\n",
    "plt.show()"
   ]
  }
 ],
 "metadata": {
  "kernelspec": {
   "display_name": "Python 3",
   "language": "python",
   "name": "python3"
  },
  "language_info": {
   "codemirror_mode": {
    "name": "ipython",
    "version": 3
   },
   "file_extension": ".py",
   "mimetype": "text/x-python",
   "name": "python",
   "nbconvert_exporter": "python",
   "pygments_lexer": "ipython3",
   "version": "3.8.8"
  }
 },
 "nbformat": 4,
 "nbformat_minor": 5
}
