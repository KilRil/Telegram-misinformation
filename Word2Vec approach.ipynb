{
 "cells": [
  {
   "cell_type": "code",
   "execution_count": 45,
   "id": "75361c9c",
   "metadata": {},
   "outputs": [],
   "source": [
    "import pandas as pd\n",
    "import numpy as np\n",
    "from gensim.models import Word2Vec\n",
    "from gensim.test.utils import common_texts\n",
    "from nltk.tokenize import word_tokenize\n",
    "from tqdm import tqdm\n",
    "import datetime\n",
    "from sklearn.decomposition import PCA\n",
    "import matplotlib.pyplot as plt"
   ]
  },
  {
   "cell_type": "code",
   "execution_count": 3,
   "id": "163fd3bf",
   "metadata": {},
   "outputs": [
    {
     "data": {
      "text/html": [
       "<div>\n",
       "<style scoped>\n",
       "    .dataframe tbody tr th:only-of-type {\n",
       "        vertical-align: middle;\n",
       "    }\n",
       "\n",
       "    .dataframe tbody tr th {\n",
       "        vertical-align: top;\n",
       "    }\n",
       "\n",
       "    .dataframe thead th {\n",
       "        text-align: right;\n",
       "    }\n",
       "</style>\n",
       "<table border=\"1\" class=\"dataframe\">\n",
       "  <thead>\n",
       "    <tr style=\"text-align: right;\">\n",
       "      <th></th>\n",
       "      <th>Message ID</th>\n",
       "      <th>Text</th>\n",
       "      <th>Country</th>\n",
       "      <th>Datetime</th>\n",
       "      <th>NEs</th>\n",
       "    </tr>\n",
       "  </thead>\n",
       "  <tbody>\n",
       "    <tr>\n",
       "      <th>0</th>\n",
       "      <td>1594</td>\n",
       "      <td>​​Упс.)</td>\n",
       "      <td>Ukraine</td>\n",
       "      <td>2022-02-01 07:57:15</td>\n",
       "      <td>()</td>\n",
       "    </tr>\n",
       "    <tr>\n",
       "      <th>1</th>\n",
       "      <td>1595</td>\n",
       "      <td>ТЕОРИЯ ХАОСА\\n\\nhttps://apeiron.school/chaos-t...</td>\n",
       "      <td>Ukraine</td>\n",
       "      <td>2022-02-01 18:08:01</td>\n",
       "      <td>(ТЕОРИЯ ХАОСА\\n\\nhttps://apeiron.school/chaos-...</td>\n",
       "    </tr>\n",
       "    <tr>\n",
       "      <th>2</th>\n",
       "      <td>1598</td>\n",
       "      <td>​​- Завтра начинается очередной модуль курса «...</td>\n",
       "      <td>Ukraine</td>\n",
       "      <td>2022-02-04 09:50:46</td>\n",
       "      <td>(​​-, Завтра)</td>\n",
       "    </tr>\n",
       "    <tr>\n",
       "      <th>3</th>\n",
       "      <td>1599</td>\n",
       "      <td>​​- Politeka с неотразимой Ингой Мезерей:\\n\\n0...</td>\n",
       "      <td>Ukraine</td>\n",
       "      <td>2022-02-04 13:54:08</td>\n",
       "      <td>(Politeka, Ингой Мезерей, Эрдогана, Украину, У...</td>\n",
       "    </tr>\n",
       "    <tr>\n",
       "      <th>4</th>\n",
       "      <td>1600</td>\n",
       "      <td>​​- Она не спит. У неё - инсайт.)\\n\\nУченье - ...</td>\n",
       "      <td>Ukraine</td>\n",
       "      <td>2022-02-05 21:20:48</td>\n",
       "      <td>(​​-,)</td>\n",
       "    </tr>\n",
       "    <tr>\n",
       "      <th>...</th>\n",
       "      <td>...</td>\n",
       "      <td>...</td>\n",
       "      <td>...</td>\n",
       "      <td>...</td>\n",
       "      <td>...</td>\n",
       "    </tr>\n",
       "    <tr>\n",
       "      <th>220399</th>\n",
       "      <td>56079</td>\n",
       "      <td>Текст предупреждений, которые полицейские прин...</td>\n",
       "      <td>Russia</td>\n",
       "      <td>2022-03-03 19:52:18</td>\n",
       "      <td>(Дождя, ДАННОЕ СООБЩЕНИЕ (МАТЕРИАЛ), ВЫПОЛНЯЮЩ...</td>\n",
       "    </tr>\n",
       "    <tr>\n",
       "      <th>220400</th>\n",
       "      <td>56080</td>\n",
       "      <td>NaN</td>\n",
       "      <td>Russia</td>\n",
       "      <td>2022-03-03 19:52:18</td>\n",
       "      <td>()</td>\n",
       "    </tr>\n",
       "    <tr>\n",
       "      <th>220401</th>\n",
       "      <td>56081</td>\n",
       "      <td>Смотрите фильм Веры Кричевской F@ck This Job в...</td>\n",
       "      <td>Russia</td>\n",
       "      <td>2022-03-05 16:14:44</td>\n",
       "      <td>(Веры Кричевской, ДАННОЕ СООБЩЕНИЕ (МАТЕРИАЛ),...</td>\n",
       "    </tr>\n",
       "    <tr>\n",
       "      <th>220402</th>\n",
       "      <td>56082</td>\n",
       "      <td>Важное заявление «Роскомсвободы». Проект проси...</td>\n",
       "      <td>Russia</td>\n",
       "      <td>2022-03-09 13:02:22</td>\n",
       "      <td>(Роскомсвободы, Запад, России, ДАННОЕ СООБЩЕНИ...</td>\n",
       "    </tr>\n",
       "    <tr>\n",
       "      <th>220403</th>\n",
       "      <td>56083</td>\n",
       "      <td>Друзья, мы надеемся, что совсем скоро сможем с...</td>\n",
       "      <td>Russia</td>\n",
       "      <td>2022-05-02 15:26:13</td>\n",
       "      <td>(Дожде, ДАННОЕ СООБЩЕНИЕ (МАТЕРИАЛ), ВЫПОЛНЯЮЩ...</td>\n",
       "    </tr>\n",
       "  </tbody>\n",
       "</table>\n",
       "<p>220404 rows × 5 columns</p>\n",
       "</div>"
      ],
      "text/plain": [
       "        Message ID                                               Text  \\\n",
       "0             1594                                            ​​Упс.)   \n",
       "1             1595  ТЕОРИЯ ХАОСА\\n\\nhttps://apeiron.school/chaos-t...   \n",
       "2             1598  ​​- Завтра начинается очередной модуль курса «...   \n",
       "3             1599  ​​- Politeka с неотразимой Ингой Мезерей:\\n\\n0...   \n",
       "4             1600  ​​- Она не спит. У неё - инсайт.)\\n\\nУченье - ...   \n",
       "...            ...                                                ...   \n",
       "220399       56079  Текст предупреждений, которые полицейские прин...   \n",
       "220400       56080                                                NaN   \n",
       "220401       56081  Смотрите фильм Веры Кричевской F@ck This Job в...   \n",
       "220402       56082  Важное заявление «Роскомсвободы». Проект проси...   \n",
       "220403       56083  Друзья, мы надеемся, что совсем скоро сможем с...   \n",
       "\n",
       "        Country            Datetime  \\\n",
       "0       Ukraine 2022-02-01 07:57:15   \n",
       "1       Ukraine 2022-02-01 18:08:01   \n",
       "2       Ukraine 2022-02-04 09:50:46   \n",
       "3       Ukraine 2022-02-04 13:54:08   \n",
       "4       Ukraine 2022-02-05 21:20:48   \n",
       "...         ...                 ...   \n",
       "220399   Russia 2022-03-03 19:52:18   \n",
       "220400   Russia 2022-03-03 19:52:18   \n",
       "220401   Russia 2022-03-05 16:14:44   \n",
       "220402   Russia 2022-03-09 13:02:22   \n",
       "220403   Russia 2022-05-02 15:26:13   \n",
       "\n",
       "                                                      NEs  \n",
       "0                                                      ()  \n",
       "1       (ТЕОРИЯ ХАОСА\\n\\nhttps://apeiron.school/chaos-...  \n",
       "2                                           (​​-, Завтра)  \n",
       "3       (Politeka, Ингой Мезерей, Эрдогана, Украину, У...  \n",
       "4                                                  (​​-,)  \n",
       "...                                                   ...  \n",
       "220399  (Дождя, ДАННОЕ СООБЩЕНИЕ (МАТЕРИАЛ), ВЫПОЛНЯЮЩ...  \n",
       "220400                                                 ()  \n",
       "220401  (Веры Кричевской, ДАННОЕ СООБЩЕНИЕ (МАТЕРИАЛ),...  \n",
       "220402  (Роскомсвободы, Запад, России, ДАННОЕ СООБЩЕНИ...  \n",
       "220403  (Дожде, ДАННОЕ СООБЩЕНИЕ (МАТЕРИАЛ), ВЫПОЛНЯЮЩ...  \n",
       "\n",
       "[220404 rows x 5 columns]"
      ]
     },
     "execution_count": 3,
     "metadata": {},
     "output_type": "execute_result"
    }
   ],
   "source": [
    "data = pd.read_csv(\"Results/NamedEntities.csv\",encoding=\"utf-16\")\n",
    "data = data.drop(\"Unnamed: 0\",axis=1)\n",
    "data[\"Datetime\"] = pd.to_datetime(data[\"Datetime\"])"
   ]
  },
  {
   "cell_type": "markdown",
   "id": "784a80a3",
   "metadata": {},
   "source": [
    "## Word2Vec embeddings approach"
   ]
  },
  {
   "cell_type": "code",
   "execution_count": 4,
   "id": "3ac8c16f",
   "metadata": {},
   "outputs": [],
   "source": [
    "data_rus = data.loc[data[\"Country\"] == \"Russia\"]\n",
    "data_ukr = data.loc[data[\"Country\"] == \"Ukraine\"]"
   ]
  },
  {
   "cell_type": "code",
   "execution_count": 21,
   "id": "4fe36745",
   "metadata": {},
   "outputs": [],
   "source": [
    "# Preparing texts\n",
    "def preprocess(data):\n",
    "    texts = []\n",
    "    for i,row in tqdm(data.iterrows()):\n",
    "        text = row[\"Text\"]\n",
    "        if type(text) == float:\n",
    "            continue\n",
    "        tokenized = word_tokenize(text)\n",
    "        texts.append(tokenized)\n",
    "    return texts"
   ]
  },
  {
   "cell_type": "code",
   "execution_count": 22,
   "id": "83762fa7",
   "metadata": {},
   "outputs": [
    {
     "name": "stderr",
     "output_type": "stream",
     "text": [
      "73861it [00:38, 1899.47it/s]\n",
      "146543it [01:10, 2072.93it/s]\n"
     ]
    }
   ],
   "source": [
    "texts_rus = preprocess(data_rus)\n",
    "texts_ukr = preprocess(data_ukr)"
   ]
  },
  {
   "cell_type": "code",
   "execution_count": 25,
   "id": "cb534a99",
   "metadata": {},
   "outputs": [],
   "source": [
    "# Trainig models\n",
    "model_rus = Word2Vec(sentences=texts_rus, vector_size=100, window=5, min_count=1, workers=4)\n",
    "model_ukr = Word2Vec(sentences=texts_ukr, vector_size=100, window=5, min_count=1, workers=4)"
   ]
  },
  {
   "cell_type": "code",
   "execution_count": 35,
   "id": "0f0e51a8",
   "metadata": {},
   "outputs": [],
   "source": [
    "def distance(vec1, vec2):\n",
    "    return np.linalg.norm(vec1-vec2)\n",
    "\n",
    "def event_matching_w2v_pipeline(date, timespan, keyword, datasets, models):\n",
    "    subset_a = datasets[0][(dataset_a.Datetime > date - datetime.timedelta(days=timespan)) &\n",
    "                         (dataset_a.Datetime < date + datetime.timedelta(days=timespan))]\n",
    "    subset_a = subset_a[~subset_a.Text.isnull()]\n",
    "    subset_a = subset_a[subset_a.Text.str.contains(keyword, case=False)]\n",
    "\n",
    "    subset_b = datasets[1][(dataset_b.Datetime > date - datetime.timedelta(days=timespan)) &\n",
    "                         (dataset_b.Datetime < date + datetime.timedelta(days=timespan))]\n",
    "    subset_b = subset_b[~subset_b.Text.isnull()] \n",
    "    subset_b = subset_b[subset_b.Text.str.contains(keyword, case=False)]\n",
    "    \n",
    "    sentence_matching_scores_1 = []\n",
    "    sentence_matching_scores_2 = []\n",
    "    \n",
    "    keyword_vector_1 = models[0].wv[keyword]\n",
    "    for sent_a in tqdm(subset_a.Text.values):\n",
    "        vectors = []\n",
    "        for word in word_tokenize(sent_a):\n",
    "            vectors.append(models[0].wv[word])\n",
    "        mean_vector = np.mean(np.array(vectors),axis=0)\n",
    "        score = distance(mean_vector,keyword_vector_1)\n",
    "        sentence_matching_scores_1.append([sent_a,score,mean_vector])\n",
    "        \n",
    "    keyword_vector_2 = models[1].wv[keyword]\n",
    "    for sent_b in tqdm(subset_b.Text.values):\n",
    "        vectors = []\n",
    "        for word in word_tokenize(sent_b):\n",
    "            vectors.append(models[1].wv[word])\n",
    "        mean_vector = np.mean(np.array(vectors),axis=0)\n",
    "        score = distance(mean_vector,keyword_vector_2)\n",
    "        sentence_matching_scores_2.append([sent_a,score,mean_vector])\n",
    "    \n",
    "    return sentence_matching_scores_1, sentence_matching_scores_2\n",
    "    "
   ]
  },
  {
   "cell_type": "code",
   "execution_count": 36,
   "id": "2913e388",
   "metadata": {},
   "outputs": [
    {
     "name": "stderr",
     "output_type": "stream",
     "text": [
      "100%|█████████████████████████████████████████████████████████████████████████████████| 81/81 [00:00<00:00, 776.52it/s]\n",
      "100%|█████████████████████████████████████████████████████████████████████████████████| 16/16 [00:00<00:00, 533.32it/s]\n"
     ]
    }
   ],
   "source": [
    "date = datetime.datetime(2022, 4, 2, 0, 0)\n",
    "timespan = 2\n",
    "keyword = \"Буча\"\n",
    "dataset_a = data_ukr\n",
    "dataset_b = data_rus\n",
    " \n",
    "results = event_matching_w2v_pipeline(date, timespan, keyword, [dataset_a, dataset_b], [model_ukr,model_rus])\n"
   ]
  },
  {
   "cell_type": "code",
   "execution_count": 41,
   "id": "54af17f2",
   "metadata": {},
   "outputs": [
    {
     "name": "stdout",
     "output_type": "stream",
     "text": [
      "Ukraine text:\n",
      "☝️Київська область. Які напрямки залишаються найбільш небезпечними:\n",
      "\n",
      "🔸населені пункти вздовж Житомирської траси\n",
      "🔸Буча – Ворзель – Гостомель\n",
      "🔸Немішаєве\n",
      "🔸Дмитрівська громада\n",
      "🔸Макарівська громада\n",
      "🔸північ Вишгородського району\n",
      "🔸території деяких населених пунктів Баришівської, Калитнянської, Великодимерської громад\n",
      "Score: 6.702515\n",
      "\n",
      "Russia text:\n",
      "❗️ Изнасилования, казни, грабежи: Human Rights Watch документирует военные преступления рашистов в Укриане.\n",
      "\n",
      "В частности, на данный момент зафиксировали зверства на территориях Черниговской, Харьковской и Киевской областей, а так же  в городе Буча.\n",
      "\n",
      "\"Случаи, которые мы задокументировали, представляют собой неописуемую, умышленную жестокость и насилие в отношении гражданского населения Украины. Изнасилования, убийства и другие насильственные действия в отношении людей, находящихся под стражей российских войск, следует расследовать как военные преступления\", - сказал Хью Уильямсон, директор Human Rights Watch в Европе и Центральной Азии\n",
      "\n",
      "Подписаться на Новости УНИАН | #новости\n",
      "Score: 3.9222426\n"
     ]
    }
   ],
   "source": [
    "# Check\n",
    "\n",
    "ukr_candidates = results[0]\n",
    "rus_candidates = results[1]\n",
    "\n",
    "top_ukr_score = np.inf\n",
    "\n",
    "for cand in ukr_candidates:\n",
    "    if cand[1] < top_ukr_score:\n",
    "        top_ukr_score = cand[1]\n",
    "        ukr_text = cand[0]\n",
    "        ukr_vec = cand[2]\n",
    "\n",
    "top_rus_score = np.inf\n",
    "        \n",
    "for cand in rus_candidates:\n",
    "    if cand[1] < top_rus_score:\n",
    "        top_rus_score = cand[1]\n",
    "        rus_text = cand[0]\n",
    "        rus_vec = cand[2]\n",
    "        \n",
    "        \n",
    "print(\"Ukraine text:\")\n",
    "print(ukr_text)\n",
    "print(\"Score:\",top_ukr_score)\n",
    "print()\n",
    "print(\"Russia text:\")\n",
    "print(rus_text)\n",
    "print(\"Score:\",top_rus_score)"
   ]
  },
  {
   "cell_type": "code",
   "execution_count": 49,
   "id": "90be1442",
   "metadata": {},
   "outputs": [
    {
     "name": "stdout",
     "output_type": "stream",
     "text": [
      "[1.00000000e+00 2.30228909e-32]\n"
     ]
    },
    {
     "data": {
      "image/png": "[encoded data removed]",
      "text/plain": [
       "<Figure size 432x288 with 1 Axes>"
      ]
     },
     "metadata": {
      "needs_background": "light"
     },
     "output_type": "display_data"
    }
   ],
   "source": [
    "X = [ukr_vec,rus_vec]\n",
    "pca = PCA(n_components=2)\n",
    "transformed = pca.fit(X)\n",
    "print(pca.explained_variance_ratio_)\n",
    "transformed = pca.transform(X)\n",
    "x,y = transformed.T\n",
    "plt.scatter(x,y)\n",
    "plt.show()"
   ]
  }
 ],
 "metadata": {
  "kernelspec": {
   "display_name": "Python 3",
   "language": "python",
   "name": "python3"
  },
  "language_info": {
   "codemirror_mode": {
    "name": "ipython",
    "version": 3
   },
   "file_extension": ".py",
   "mimetype": "text/x-python",
   "name": "python",
   "nbconvert_exporter": "python",
   "pygments_lexer": "ipython3",
   "version": "3.8.8"
  }
 },
 "nbformat": 4,
 "nbformat_minor": 5
}
