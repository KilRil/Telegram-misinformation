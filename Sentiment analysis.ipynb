{
 "cells": [
  {
   "cell_type": "code",
   "execution_count": 1,
   "id": "b3641a6c",
   "metadata": {},
   "outputs": [],
   "source": [
    "import pandas as pd\n",
    "import numpy as np\n",
    "import emoji\n",
    "import regex\n",
    "from tqdm import tqdm\n",
    "from gensim.models.word2vec import Word2Vec\n",
    "from nltk.tokenize import word_tokenize"
   ]
  },
  {
   "cell_type": "code",
   "execution_count": 2,
   "id": "dcdde4f8",
   "metadata": {},
   "outputs": [],
   "source": [
    "def loadFile(name):\n",
    "    data = pd.read_csv(name,dtype={\"Message ID\":int,\"Message type\":\"category\",\"Text\":str,\"Country\":\"category\",\n",
    "                                    \"Source type\":\"category\",\"Source name\":str,\"Source ID\":str,\"Datetime\":str,\n",
    "                                    \"From\":str,\"From ID\":str,\"Reply ID\":str,\"Forwarded from\":str,\n",
    "                                    \"Message with media\":\"bool\",\"Media type\":\"category\",\"Different fonts\":\"bool\",\n",
    "                                    \"Action if service\":\"category\",\"Has link\":\"bool\"},encoding=\"utf-16\")\n",
    "    data = data.drop(\"Unnamed: 0\",axis=1)\n",
    "    data[\"Datetime\"] = pd.to_datetime(data[\"Datetime\"])\n",
    "    return data"
   ]
  },
  {
   "cell_type": "code",
   "execution_count": 3,
   "id": "a9db06c4",
   "metadata": {},
   "outputs": [],
   "source": [
    "# Load file\n",
    "data = loadFile(\"Reformated/UkraineGroups.csv\")"
   ]
  },
  {
   "cell_type": "markdown",
   "id": "f03f8c2f",
   "metadata": {},
   "source": [
    "## Emoji extraction\n"
   ]
  },
  {
   "cell_type": "code",
   "execution_count": 4,
   "id": "d5824e15",
   "metadata": {},
   "outputs": [],
   "source": [
    "emojis = {}\n",
    "errors = 0\n",
    "error_texts = []\n",
    "texts_with_emojis = []\n",
    "texts_all = []"
   ]
  },
  {
   "cell_type": "code",
   "execution_count": 5,
   "id": "1ccfc6cd",
   "metadata": {},
   "outputs": [
    {
     "name": "stderr",
     "output_type": "stream",
     "text": [
      "100%|█████████████████████████████████████████████████████████████████████| 3713436/3713436 [01:48<00:00, 34284.51it/s]\n"
     ]
    }
   ],
   "source": [
    "for text in tqdm(data[\"Text\"]):\n",
    "    try:\n",
    "        emojis_list = emoji.distinct_emoji_list(text)\n",
    "    except:\n",
    "        error_texts.append(text)\n",
    "        errors += 1\n",
    "        continue\n",
    "    if len(emojis_list)>0:\n",
    "        texts_with_emojis.append(text)\n",
    "    texts_all.append(text)\n",
    "    for e in emojis_list:\n",
    "        if e in emojis:\n",
    "            emojis[e] += 1\n",
    "        else:\n",
    "            emojis[e] = 1"
   ]
  },
  {
   "cell_type": "markdown",
   "id": "1e833988",
   "metadata": {},
   "source": [
    "#### Statistics"
   ]
  },
  {
   "cell_type": "code",
   "execution_count": 6,
   "id": "3f804652",
   "metadata": {},
   "outputs": [
    {
     "name": "stdout",
     "output_type": "stream",
     "text": [
      "[('😂', 110182), ('🤣', 40590), ('🇺🇦', 32336), ('😁', 32123), ('👍', 23178), ('🤕', 21630), ('🌚', 20807), ('😅', 19078), ('🤔', 15901), ('🙏', 15806), ('❤️', 15727), ('❗', 13904), ('😆', 11328), ('😉', 10207), ('😭', 10130), ('😡', 10045), ('😏', 8918), ('🥺', 8771), ('🗿', 8616), ('😄', 8201), ('😳', 8161), ('👉', 8153), ('✅', 7745), ('💙', 7455), ('💛', 7436), ('⚡', 7308), ('🤬', 7253), ('😔', 6783), ('😢', 6557), ('😊', 6435), ('🙄', 6432), ('🔥', 6428), ('🇷🇺', 6357), ('🥰', 6314), ('💪', 5836), ('🙈', 5446), ('😑', 5260), ('👌', 5132), ('😍', 4659), ('☢️', 4598), ('🤡', 4494), ('🤮', 4369), ('‼️', 4349), ('🤗', 4294), ('😎', 4276), ('☺️', 4069), ('😀', 4061), ('\\U0001f972', 3712), ('🤦\\u200d♀️', 3573), ('💬', 3527)]\n"
     ]
    }
   ],
   "source": [
    "top50emojis = sorted(emojis.items(),key=lambda x:x[1],reverse=True)[:50]\n",
    "print(top50emojis)"
   ]
  },
  {
   "cell_type": "code",
   "execution_count": 7,
   "id": "caf67319",
   "metadata": {},
   "outputs": [
    {
     "name": "stdout",
     "output_type": "stream",
     "text": [
      "265092\n"
     ]
    }
   ],
   "source": [
    "# Messages with NaN\n",
    "print(errors)"
   ]
  },
  {
   "cell_type": "markdown",
   "id": "36d73772",
   "metadata": {},
   "source": [
    "## Word2Vec"
   ]
  },
  {
   "cell_type": "code",
   "execution_count": 8,
   "id": "e9706fd4",
   "metadata": {},
   "outputs": [],
   "source": [
    "def text_tokenize(texts):\n",
    "    sentences = []\n",
    "    for text in tqdm(texts):\n",
    "        sentences.append(word_tokenize(text))\n",
    "    return sentences"
   ]
  },
  {
   "cell_type": "code",
   "execution_count": 9,
   "id": "3a9d95b2",
   "metadata": {},
   "outputs": [
    {
     "name": "stderr",
     "output_type": "stream",
     "text": [
      "100%|████████████████████████████████████████████████████████████████████████| 645846/645846 [02:09<00:00, 4968.19it/s]\n",
      "100%|██████████████████████████████████████████████████████████████████████| 3448344/3448344 [09:54<00:00, 5800.22it/s]\n"
     ]
    }
   ],
   "source": [
    "texts_with_emojis_sen = text_tokenize(texts_with_emojis)\n",
    "texts_all_sen = text_tokenize(texts_all)"
   ]
  },
  {
   "cell_type": "code",
   "execution_count": 10,
   "id": "80bf6086",
   "metadata": {},
   "outputs": [
    {
     "name": "stdout",
     "output_type": "stream",
     "text": [
      "3448344\n",
      "3448344\n",
      "645846\n",
      "645846\n"
     ]
    }
   ],
   "source": [
    "print(len(texts_all))\n",
    "print(len(texts_all_sen))\n",
    "print(len(texts_with_emojis))\n",
    "print(len(texts_with_emojis_sen))"
   ]
  },
  {
   "cell_type": "code",
   "execution_count": 11,
   "id": "c5097dee",
   "metadata": {},
   "outputs": [],
   "source": [
    "# Messages with emoji\n",
    "model = Word2Vec(sentences=texts_with_emojis_sen, vector_size=100, window=5, min_count=1, workers=4)"
   ]
  },
  {
   "cell_type": "code",
   "execution_count": 12,
   "id": "63483054",
   "metadata": {},
   "outputs": [],
   "source": [
    "# All messages\n",
    "model2 = Word2Vec(sentences=texts_all_sen, vector_size=100, window=5, min_count=1, workers=4)"
   ]
  },
  {
   "cell_type": "code",
   "execution_count": 59,
   "id": "6e42ddc2",
   "metadata": {},
   "outputs": [
    {
     "name": "stdout",
     "output_type": "stream",
     "text": [
      "🤡\n"
     ]
    }
   ],
   "source": [
    "top_emoji = top50emojis[40][0]\n",
    "print(top_emoji)"
   ]
  },
  {
   "cell_type": "code",
   "execution_count": 62,
   "id": "e016a4ea",
   "metadata": {},
   "outputs": [
    {
     "name": "stdout",
     "output_type": "stream",
     "text": [
      "[('😂😂😂😂', 0.777965247631073), ('🤣🤣', 0.7725412845611572), ('🤣🤣🤣', 0.7670748829841614), ('🤦\\u200d♂️', 0.7639925479888916), ('🤣', 0.7631723284721375), ('🤣🤣🤣🤣', 0.7521170377731323), ('😂😂😂', 0.743286669254303), ('😂😂', 0.7352780699729919), ('😆', 0.7122071385383606), ('😂', 0.7058059573173523), ('😁😁😁', 0.705274760723114), ('😏', 0.6950556039810181), ('🤣🤣🤣🤣🤣', 0.6936535835266113), ('😀', 0.6832446455955505), ('🤦\\u200d♀', 0.6764146685600281), ('🤦', 0.6757794618606567), ('🧐', 0.6744260191917419), ('😁', 0.6738578677177429), ('🤭', 0.6716986894607544), ('🤦🏻\\u200d♀️', 0.6709883809089661)]\n"
     ]
    }
   ],
   "source": [
    "print(model.wv.most_similar(top_emoji,topn=20))"
   ]
  },
  {
   "cell_type": "code",
   "execution_count": 64,
   "id": "5853fe61",
   "metadata": {},
   "outputs": [
    {
     "name": "stdout",
     "output_type": "stream",
     "text": [
      "[('😂😂😂😂', 0.7047255635261536), ('🤣', 0.6800478100776672), ('🤣🤣🤣', 0.6687999367713928), ('😂😂😂', 0.657667338848114), ('😂😂', 0.6532021760940552), ('🤣🤣', 0.6367610692977905), ('🤣🤣🤣🤣', 0.6323269009590149), ('😂', 0.6307872533798218), ('😂😂😂😂😂', 0.6270245313644409), ('диванный', 0.5938810110092163), ('😀', 0.591812014579773), ('😁😁😁', 0.5916918516159058), ('Батутный', 0.5884559750556946), ('😆', 0.5842610001564026), ('😄', 0.5828202962875366), ('😁', 0.5762217044830322), ('😂😂😂😂😂😂', 0.5689116716384888), ('🤡🤡', 0.5672885179519653), ('клоун', 0.5595901608467102), ('🤦\\u200d♂️', 0.5557526350021362)]\n"
     ]
    }
   ],
   "source": [
    "print(model2.wv.most_similar(top_emoji,topn=20))"
   ]
  },
  {
   "cell_type": "code",
   "execution_count": null,
   "id": "f3752eea",
   "metadata": {},
   "outputs": [],
   "source": []
  }
 ],
 "metadata": {
  "kernelspec": {
   "display_name": "Python 3",
   "language": "python",
   "name": "python3"
  },
  "language_info": {
   "codemirror_mode": {
    "name": "ipython",
    "version": 3
   },
   "file_extension": ".py",
   "mimetype": "text/x-python",
   "name": "python",
   "nbconvert_exporter": "python",
   "pygments_lexer": "ipython3",
   "version": "3.8.8"
  }
 },
 "nbformat": 4,
 "nbformat_minor": 5
}
