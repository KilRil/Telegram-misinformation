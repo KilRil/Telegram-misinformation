{
 "cells": [
  {
   "cell_type": "code",
   "execution_count": 68,
   "id": "c982e821",
   "metadata": {},
   "outputs": [],
   "source": [
    "import pandas as pd\n",
    "import numpy as np\n",
    "from tqdm import tqdm\n",
    "from datetime import timedelta"
   ]
  },
  {
   "cell_type": "code",
   "execution_count": 87,
   "id": "e2df5904",
   "metadata": {},
   "outputs": [],
   "source": [
    "data = pd.read_csv(\"Results/NamedEntities.csv\",encoding=\"utf-16\")\n",
    "data = data.drop(\"Unnamed: 0\",axis=1)"
   ]
  },
  {
   "cell_type": "code",
   "execution_count": 88,
   "id": "d6a454f7",
   "metadata": {},
   "outputs": [
    {
     "data": {
      "text/plain": [
       "Message ID             int64\n",
       "Text                  object\n",
       "Country               object\n",
       "Datetime      datetime64[ns]\n",
       "NEs                   object\n",
       "dtype: object"
      ]
     },
     "execution_count": 88,
     "metadata": {},
     "output_type": "execute_result"
    }
   ],
   "source": [
    "data[\"Datetime\"] = pd.to_datetime(data[\"Datetime\"])\n",
    "data.dtypes"
   ]
  },
  {
   "cell_type": "code",
   "execution_count": 89,
   "id": "b7552bf8",
   "metadata": {},
   "outputs": [],
   "source": [
    "def clean(nes):\n",
    "    global count\n",
    "    nes = nes[1:-1].split(\",\")\n",
    "    result = []\n",
    "    for ne in nes:\n",
    "        n = ne.strip()\n",
    "        if n == \"\\u200b\\u200b-\":\n",
    "            continue\n",
    "        elif n in result:\n",
    "            continue\n",
    "        else:\n",
    "            result.append(n)\n",
    "    \n",
    "    result = \",\".join(result)\n",
    "    return result"
   ]
  },
  {
   "cell_type": "code",
   "execution_count": 90,
   "id": "c6776116",
   "metadata": {},
   "outputs": [],
   "source": [
    "data[\"NEs\"] = data.apply(lambda x: clean(x[\"NEs\"]),axis=1)"
   ]
  },
  {
   "cell_type": "code",
   "execution_count": 91,
   "id": "f3914192",
   "metadata": {},
   "outputs": [
    {
     "data": {
      "text/html": [
       "<div>\n",
       "<style scoped>\n",
       "    .dataframe tbody tr th:only-of-type {\n",
       "        vertical-align: middle;\n",
       "    }\n",
       "\n",
       "    .dataframe tbody tr th {\n",
       "        vertical-align: top;\n",
       "    }\n",
       "\n",
       "    .dataframe thead th {\n",
       "        text-align: right;\n",
       "    }\n",
       "</style>\n",
       "<table border=\"1\" class=\"dataframe\">\n",
       "  <thead>\n",
       "    <tr style=\"text-align: right;\">\n",
       "      <th></th>\n",
       "      <th>Message ID</th>\n",
       "      <th>Text</th>\n",
       "      <th>Country</th>\n",
       "      <th>Datetime</th>\n",
       "      <th>NEs</th>\n",
       "    </tr>\n",
       "  </thead>\n",
       "  <tbody>\n",
       "    <tr>\n",
       "      <th>0</th>\n",
       "      <td>1594</td>\n",
       "      <td>​​Упс.)</td>\n",
       "      <td>Ukraine</td>\n",
       "      <td>2022-02-01 07:57:15</td>\n",
       "      <td></td>\n",
       "    </tr>\n",
       "    <tr>\n",
       "      <th>1</th>\n",
       "      <td>1595</td>\n",
       "      <td>ТЕОРИЯ ХАОСА\\n\\nhttps://apeiron.school/chaos-t...</td>\n",
       "      <td>Ukraine</td>\n",
       "      <td>2022-02-01 18:08:01</td>\n",
       "      <td>ТЕОРИЯ ХАОСА\\n\\nhttps://apeiron.school/chaos-t...</td>\n",
       "    </tr>\n",
       "    <tr>\n",
       "      <th>2</th>\n",
       "      <td>1598</td>\n",
       "      <td>​​- Завтра начинается очередной модуль курса «...</td>\n",
       "      <td>Ukraine</td>\n",
       "      <td>2022-02-04 09:50:46</td>\n",
       "      <td>Завтра</td>\n",
       "    </tr>\n",
       "    <tr>\n",
       "      <th>3</th>\n",
       "      <td>1599</td>\n",
       "      <td>​​- Politeka с неотразимой Ингой Мезерей:\\n\\n0...</td>\n",
       "      <td>Ukraine</td>\n",
       "      <td>2022-02-04 13:54:08</td>\n",
       "      <td>Politeka,Ингой Мезерей,Эрдогана,Украину,Украин...</td>\n",
       "    </tr>\n",
       "    <tr>\n",
       "      <th>4</th>\n",
       "      <td>1600</td>\n",
       "      <td>​​- Она не спит. У неё - инсайт.)\\n\\nУченье - ...</td>\n",
       "      <td>Ukraine</td>\n",
       "      <td>2022-02-05 21:20:48</td>\n",
       "      <td></td>\n",
       "    </tr>\n",
       "    <tr>\n",
       "      <th>...</th>\n",
       "      <td>...</td>\n",
       "      <td>...</td>\n",
       "      <td>...</td>\n",
       "      <td>...</td>\n",
       "      <td>...</td>\n",
       "    </tr>\n",
       "    <tr>\n",
       "      <th>220399</th>\n",
       "      <td>56079</td>\n",
       "      <td>Текст предупреждений, которые полицейские прин...</td>\n",
       "      <td>Russia</td>\n",
       "      <td>2022-03-03 19:52:18</td>\n",
       "      <td>Дождя,ДАННОЕ СООБЩЕНИЕ (МАТЕРИАЛ),ВЫПОЛНЯЮЩИМ ...</td>\n",
       "    </tr>\n",
       "    <tr>\n",
       "      <th>220400</th>\n",
       "      <td>56080</td>\n",
       "      <td>NaN</td>\n",
       "      <td>Russia</td>\n",
       "      <td>2022-03-03 19:52:18</td>\n",
       "      <td></td>\n",
       "    </tr>\n",
       "    <tr>\n",
       "      <th>220401</th>\n",
       "      <td>56081</td>\n",
       "      <td>Смотрите фильм Веры Кричевской F@ck This Job в...</td>\n",
       "      <td>Russia</td>\n",
       "      <td>2022-03-05 16:14:44</td>\n",
       "      <td>Веры Кричевской,ДАННОЕ СООБЩЕНИЕ (МАТЕРИАЛ),ВЫ...</td>\n",
       "    </tr>\n",
       "    <tr>\n",
       "      <th>220402</th>\n",
       "      <td>56082</td>\n",
       "      <td>Важное заявление «Роскомсвободы». Проект проси...</td>\n",
       "      <td>Russia</td>\n",
       "      <td>2022-03-09 13:02:22</td>\n",
       "      <td>Роскомсвободы,Запад,России,ДАННОЕ СООБЩЕНИЕ (М...</td>\n",
       "    </tr>\n",
       "    <tr>\n",
       "      <th>220403</th>\n",
       "      <td>56083</td>\n",
       "      <td>Друзья, мы надеемся, что совсем скоро сможем с...</td>\n",
       "      <td>Russia</td>\n",
       "      <td>2022-05-02 15:26:13</td>\n",
       "      <td>Дожде,ДАННОЕ СООБЩЕНИЕ (МАТЕРИАЛ),ВЫПОЛНЯЮЩИМ ...</td>\n",
       "    </tr>\n",
       "  </tbody>\n",
       "</table>\n",
       "<p>220404 rows × 5 columns</p>\n",
       "</div>"
      ],
      "text/plain": [
       "        Message ID                                               Text  \\\n",
       "0             1594                                            ​​Упс.)   \n",
       "1             1595  ТЕОРИЯ ХАОСА\\n\\nhttps://apeiron.school/chaos-t...   \n",
       "2             1598  ​​- Завтра начинается очередной модуль курса «...   \n",
       "3             1599  ​​- Politeka с неотразимой Ингой Мезерей:\\n\\n0...   \n",
       "4             1600  ​​- Она не спит. У неё - инсайт.)\\n\\nУченье - ...   \n",
       "...            ...                                                ...   \n",
       "220399       56079  Текст предупреждений, которые полицейские прин...   \n",
       "220400       56080                                                NaN   \n",
       "220401       56081  Смотрите фильм Веры Кричевской F@ck This Job в...   \n",
       "220402       56082  Важное заявление «Роскомсвободы». Проект проси...   \n",
       "220403       56083  Друзья, мы надеемся, что совсем скоро сможем с...   \n",
       "\n",
       "        Country            Datetime  \\\n",
       "0       Ukraine 2022-02-01 07:57:15   \n",
       "1       Ukraine 2022-02-01 18:08:01   \n",
       "2       Ukraine 2022-02-04 09:50:46   \n",
       "3       Ukraine 2022-02-04 13:54:08   \n",
       "4       Ukraine 2022-02-05 21:20:48   \n",
       "...         ...                 ...   \n",
       "220399   Russia 2022-03-03 19:52:18   \n",
       "220400   Russia 2022-03-03 19:52:18   \n",
       "220401   Russia 2022-03-05 16:14:44   \n",
       "220402   Russia 2022-03-09 13:02:22   \n",
       "220403   Russia 2022-05-02 15:26:13   \n",
       "\n",
       "                                                      NEs  \n",
       "0                                                          \n",
       "1       ТЕОРИЯ ХАОСА\\n\\nhttps://apeiron.school/chaos-t...  \n",
       "2                                                  Завтра  \n",
       "3       Politeka,Ингой Мезерей,Эрдогана,Украину,Украин...  \n",
       "4                                                          \n",
       "...                                                   ...  \n",
       "220399  Дождя,ДАННОЕ СООБЩЕНИЕ (МАТЕРИАЛ),ВЫПОЛНЯЮЩИМ ...  \n",
       "220400                                                     \n",
       "220401  Веры Кричевской,ДАННОЕ СООБЩЕНИЕ (МАТЕРИАЛ),ВЫ...  \n",
       "220402  Роскомсвободы,Запад,России,ДАННОЕ СООБЩЕНИЕ (М...  \n",
       "220403  Дожде,ДАННОЕ СООБЩЕНИЕ (МАТЕРИАЛ),ВЫПОЛНЯЮЩИМ ...  \n",
       "\n",
       "[220404 rows x 5 columns]"
      ]
     },
     "execution_count": 91,
     "metadata": {},
     "output_type": "execute_result"
    }
   ],
   "source": [
    "data"
   ]
  },
  {
   "cell_type": "code",
   "execution_count": 134,
   "id": "f55b5f61",
   "metadata": {},
   "outputs": [],
   "source": [
    "def getWindow(date,df,country,window=2):\n",
    "    switch = {\"Ukraine\":\"Russia\",\"Russia\":\"Ukraine\"}\n",
    "    country = switch[country]\n",
    "    start_date = date - timedelta(days=window)\n",
    "    end_date = date + timedelta(days=window)\n",
    "    mask = (df['Datetime'] > start_date) & (df['Datetime'] <= end_date) & (df[\"Country\"]==country)\n",
    "    return df.loc[mask]"
   ]
  },
  {
   "cell_type": "code",
   "execution_count": 135,
   "id": "36f471b3",
   "metadata": {},
   "outputs": [],
   "source": [
    "def overlap_coeff(nes1,nes2):\n",
    "    nes1 = set(nes1.split(\",\"))\n",
    "    nes2 = set(nes2.split(\",\"))\n",
    "    overlap = nes1 & nes2\n",
    "    return len(overlap) / max([len(nes1),len(nes2)])\n",
    "    "
   ]
  },
  {
   "cell_type": "code",
   "execution_count": 136,
   "id": "9d7064ac",
   "metadata": {},
   "outputs": [],
   "source": [
    "def event_matching(nes,df_potential):\n",
    "    top_score = 0\n",
    "    winner = None\n",
    "    for i,message in df_potential.iterrows():\n",
    "        score = overlap_coeff(nes,message[\"NEs\"])\n",
    "        if score > top_score:\n",
    "            winner = message\n",
    "            top_score = score\n",
    "    return winner,top_score"
   ]
  },
  {
   "cell_type": "code",
   "execution_count": 137,
   "id": "02bb09b2",
   "metadata": {},
   "outputs": [
    {
     "name": "stdout",
     "output_type": "stream",
     "text": [
      "Test:\n",
      "​​- Мое небольшое интервью «Новинам.live” о международной обстановке вокруг Украины.\n",
      "\n",
      "«Ближайшие две недели - решающие»:\n",
      " \n",
      "https://novyny.live/politics/rossiia-doigralas-ei-dali-po-shchekam-blizhaishie-2-nedeli-reshaiushchie-interviu-alekseia-arestovicha-o-voine-donbasse-i-zapade-38876.html\n",
      "NEs: Мое,Новинам.live,Украины\n",
      "\n",
      "Matched:\n",
      "Зеленский подтвердил готовность Украины выполнять Минские соглашения, заявил Макрон.\n",
      "\n",
      "@rt_russian\n",
      "Matched NEs: Зеленский,Украины,Макрон\n",
      "Score: 0.3333333333333333\n"
     ]
    }
   ],
   "source": [
    "# Testing\n",
    "\n",
    "test_m = data.iloc[12]\n",
    "date = test_m[\"Datetime\"]\n",
    "test_nes = test_m[\"NEs\"]\n",
    "window = getWindow(date,data,\"Ukraine\")\n",
    "\n",
    "matched,score = event_matching(test_nes,window)\n",
    "\n",
    "print(\"Test:\")\n",
    "print(test_m[\"Text\"])\n",
    "\n",
    "print(\"NEs:\",test_nes)\n",
    "\n",
    "print()\n",
    "print(\"Matched:\")\n",
    "\n",
    "print(matched[\"Text\"])\n",
    "print(\"Matched NEs:\",matched[\"NEs\"])\n",
    "print(\"Score:\",score)"
   ]
  },
  {
   "cell_type": "code",
   "execution_count": null,
   "id": "7800c27e",
   "metadata": {},
   "outputs": [],
   "source": []
  }
 ],
 "metadata": {
  "kernelspec": {
   "display_name": "Python 3",
   "language": "python",
   "name": "python3"
  },
  "language_info": {
   "codemirror_mode": {
    "name": "ipython",
    "version": 3
   },
   "file_extension": ".py",
   "mimetype": "text/x-python",
   "name": "python",
   "nbconvert_exporter": "python",
   "pygments_lexer": "ipython3",
   "version": "3.8.8"
  }
 },
 "nbformat": 4,
 "nbformat_minor": 5
}
