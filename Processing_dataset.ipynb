{
  "nbformat": 4,
  "nbformat_minor": 0,
  "metadata": {
    "colab": {
      "name": "Processing dataset.ipynb",
      "provenance": [],
      "collapsed_sections": []
    },
    "kernelspec": {
      "name": "python3",
      "display_name": "Python 3"
    },
    "language_info": {
      "name": "python"
    }
  },
  "cells": [
    {
      "cell_type": "code",
      "execution_count": null,
      "metadata": {
        "colab": {
          "base_uri": "https://localhost:8080/"
        },
        "id": "Aodh7VnfJezc",
        "outputId": "52aa0783-4097-4f55-bfd6-b9fd5afeccb9"
      },
      "outputs": [
        {
          "output_type": "stream",
          "name": "stdout",
          "text": [
            "Mounted at /content/gdrive\n"
          ]
        }
      ],
      "source": [
        "from google.colab import drive\n",
        "\n",
        "drive.mount('/content/gdrive')"
      ]
    },
    {
      "cell_type": "code",
      "source": [
        "!unzip /content/gdrive/MyDrive/Reformated.zip"
      ],
      "metadata": {
        "colab": {
          "base_uri": "https://localhost:8080/"
        },
        "id": "se4Cc1H6JrE2",
        "outputId": "da8afbad-c72e-43c5-c6af-6e9db5f1c985"
      },
      "execution_count": null,
      "outputs": [
        {
          "output_type": "stream",
          "name": "stdout",
          "text": [
            "Archive:  /content/gdrive/MyDrive/Reformated.zip\n",
            "  inflating: BelarusChannels.csv     \n",
            "  inflating: BelarusGroups.csv       \n",
            "  inflating: RussiaChannels.csv      \n",
            "  inflating: RussiaGroups.csv        \n",
            "  inflating: UkraineChannels.csv     \n",
            "  inflating: UkraineGroups.csv       \n"
          ]
        }
      ]
    },
    {
      "cell_type": "markdown",
      "source": [
        "# Load dataset"
      ],
      "metadata": {
        "id": "U8XEZwxWKTOR"
      }
    },
    {
      "cell_type": "code",
      "source": [
        "import pandas as pd"
      ],
      "metadata": {
        "id": "YjpDPNuHJ7Yi"
      },
      "execution_count": null,
      "outputs": []
    },
    {
      "cell_type": "code",
      "source": [
        "russian_groups = pd.read_csv('/content/RussiaGroups.csv', encoding='utf-16')\n",
        "russian_groups = russian_groups[['Text', 'Country', 'From ID']]\n",
        "russian_groups.columns = ['text', 'country', 'from_id']"
      ],
      "metadata": {
        "colab": {
          "base_uri": "https://localhost:8080/"
        },
        "id": "wiS7cSSaKROi",
        "outputId": "bd69fd3d-7e7d-4692-a560-9319ca81dd10"
      },
      "execution_count": null,
      "outputs": [
        {
          "output_type": "stream",
          "name": "stderr",
          "text": [
            "/usr/local/lib/python3.7/dist-packages/IPython/core/interactiveshell.py:2882: DtypeWarning: Columns (16) have mixed types.Specify dtype option on import or set low_memory=False.\n",
            "  exec(code_obj, self.user_global_ns, self.user_ns)\n"
          ]
        }
      ]
    },
    {
      "cell_type": "code",
      "source": [
        "russian_channels = pd.read_csv('/content/RussiaChannels.csv', encoding='utf-16')\n",
        "russian_channels = russian_channels[['Text', 'Country']]\n",
        "russian_channels.columns = ['text', 'country']"
      ],
      "metadata": {
        "colab": {
          "base_uri": "https://localhost:8080/"
        },
        "id": "Hiy2s_WXI5ap",
        "outputId": "84992361-7ac1-4734-a9c1-656a7d0544f4"
      },
      "execution_count": null,
      "outputs": [
        {
          "output_type": "stream",
          "name": "stderr",
          "text": [
            "/usr/local/lib/python3.7/dist-packages/IPython/core/interactiveshell.py:2882: DtypeWarning: Columns (12) have mixed types.Specify dtype option on import or set low_memory=False.\n",
            "  exec(code_obj, self.user_global_ns, self.user_ns)\n"
          ]
        }
      ]
    },
    {
      "cell_type": "code",
      "source": [
        "ukrainian_groups = pd.read_csv('/content/UkraineGroups.csv', encoding='utf-16')\n",
        "ukrainian_groups = ukrainian_groups[['Text', 'Country', 'From ID']]\n",
        "ukrainian_groups.columns = ['text', 'country', 'from_id']"
      ],
      "metadata": {
        "colab": {
          "base_uri": "https://localhost:8080/"
        },
        "id": "b-OQcUpdLgaF",
        "outputId": "04fb8d2d-c3b7-4123-c57f-8fa7ad4f989f"
      },
      "execution_count": null,
      "outputs": [
        {
          "output_type": "stream",
          "name": "stderr",
          "text": [
            "/usr/local/lib/python3.7/dist-packages/IPython/core/interactiveshell.py:2882: DtypeWarning: Columns (14,16) have mixed types.Specify dtype option on import or set low_memory=False.\n",
            "  exec(code_obj, self.user_global_ns, self.user_ns)\n"
          ]
        }
      ]
    },
    {
      "cell_type": "code",
      "source": [
        "ukraine_channels = pd.read_csv('/content/UkraineChannels.csv', encoding='utf-16')\n",
        "ukraine_channels = ukraine_channels[['Text', 'Country']]\n",
        "ukraine_channels.columns = ['text', 'country']"
      ],
      "metadata": {
        "colab": {
          "base_uri": "https://localhost:8080/"
        },
        "id": "s-2xrUJ-JBei",
        "outputId": "c2781d40-ea8a-4a0e-c9a6-b10e07a31f91"
      },
      "execution_count": null,
      "outputs": [
        {
          "output_type": "stream",
          "name": "stderr",
          "text": [
            "/usr/local/lib/python3.7/dist-packages/IPython/core/interactiveshell.py:2882: DtypeWarning: Columns (16) have mixed types.Specify dtype option on import or set low_memory=False.\n",
            "  exec(code_obj, self.user_global_ns, self.user_ns)\n"
          ]
        }
      ]
    },
    {
      "cell_type": "markdown",
      "source": [
        "# Emojis analysis & Word2Vec"
      ],
      "metadata": {
        "id": "OJ4A-iLIGdyX"
      }
    },
    {
      "cell_type": "code",
      "source": [
        "!pip install emoji"
      ],
      "metadata": {
        "colab": {
          "base_uri": "https://localhost:8080/"
        },
        "id": "vrvlrruiHDoh",
        "outputId": "ccef186b-e14b-407d-c2ad-16e539e85e17"
      },
      "execution_count": null,
      "outputs": [
        {
          "output_type": "stream",
          "name": "stdout",
          "text": [
            "Looking in indexes: https://pypi.org/simple, https://us-python.pkg.dev/colab-wheels/public/simple/\n",
            "Collecting emoji\n",
            "  Downloading emoji-2.0.0.tar.gz (197 kB)\n",
            "\u001b[K     |████████████████████████████████| 197 kB 5.0 MB/s \n",
            "\u001b[?25hBuilding wheels for collected packages: emoji\n",
            "  Building wheel for emoji (setup.py) ... \u001b[?25l\u001b[?25hdone\n",
            "  Created wheel for emoji: filename=emoji-2.0.0-py3-none-any.whl size=193022 sha256=2a3a47d456c9777cfa293b4cd1e23c1896eb969f2d421f3fa50c56d49a80dcef\n",
            "  Stored in directory: /root/.cache/pip/wheels/ec/29/4d/3cfe7452ac7d8d83b1930f8a6205c3c9649b24e80f9029fc38\n",
            "Successfully built emoji\n",
            "Installing collected packages: emoji\n",
            "Successfully installed emoji-2.0.0\n"
          ]
        }
      ]
    },
    {
      "cell_type": "code",
      "source": [
        "import emoji\n",
        "from tqdm import tqdm"
      ],
      "metadata": {
        "id": "TIeiqACGHMxJ"
      },
      "execution_count": null,
      "outputs": []
    },
    {
      "cell_type": "code",
      "source": [
        "emojis = {}\n",
        "errors = 0\n",
        "error_texts = []\n",
        "texts_with_emojis = []\n",
        "texts_all = []\n",
        "for text in tqdm(russian_groups[\"text\"]):\n",
        "    try:\n",
        "        emojis_list = emoji.distinct_emoji_list(text)\n",
        "    except:\n",
        "        error_texts.append(text)\n",
        "        errors += 1\n",
        "        continue\n",
        "    if len(emojis_list)>0:\n",
        "        texts_with_emojis.append(text )\n",
        "    texts_all.append(text)\n",
        "    for e in emojis_list:\n",
        "        if e in emojis:\n",
        "            emojis[e] += 1\n",
        "        else:\n",
        "            emojis[e] = 1\n",
        "top50emojis = sorted(emojis.items(),key=lambda x:x[1],reverse=True)[:50]\n",
        "print(top50emojis)"
      ],
      "metadata": {
        "colab": {
          "base_uri": "https://localhost:8080/"
        },
        "id": "nyzJIU7_GscM",
        "outputId": "4de43005-fbbf-408d-9db1-8f07536d4917"
      },
      "execution_count": null,
      "outputs": [
        {
          "output_type": "stream",
          "name": "stderr",
          "text": [
            "100%|██████████| 5838113/5838113 [04:07<00:00, 23573.38it/s]\n"
          ]
        }
      ]
    },
    {
      "cell_type": "code",
      "source": [
        "top50emojis = sorted(emojis.items(),key=lambda x:x[1],reverse=True)[:50]\n",
        "print(top50emojis)"
      ],
      "metadata": {
        "colab": {
          "base_uri": "https://localhost:8080/"
        },
        "id": "1vJfGKkhIIud",
        "outputId": "19e24c76-83ea-4ad9-82c7-23f3bdd5789c"
      },
      "execution_count": null,
      "outputs": [
        {
          "output_type": "stream",
          "name": "stdout",
          "text": [
            "[('😂', 209102), ('🤣', 102724), ('👍', 79825), ('😁', 68697), ('🇷🇺', 30209), ('❤️', 25603), ('🤔', 25554), ('🇺🇦', 22186), ('😉', 20004), ('🙏', 19100), ('🤮', 19063), ('😅', 17121), ('😄', 17008), ('😆', 15753), ('🙈', 15657), ('😏', 15051), ('😡', 14421), ('😊', 13094), ('❗', 11863), ('😀', 11290), ('🤡', 10997), ('🤦\\u200d♀️', 10805), ('💪', 10660), ('👏', 10409), ('⚡', 10194), ('😎', 10190), ('💩', 9631), ('😳', 9498), ('⚠️', 8688), ('😱', 8567), ('🔥', 8454), ('😜', 8247), ('😢', 7681), ('😭', 7669), ('🤬', 7539), ('☺️', 7250), ('🐷', 6868), ('😘', 6413), ('👌', 6275), ('🙄', 6127), ('🤷\\u200d♀️', 6022), ('🤦\\u200d♂️', 5916), ('🤗', 5883), ('😍', 5841), ('🥰', 5820), ('😔', 5779), ('🤝', 5666), ('‼️', 5537), ('🤭', 5381), ('☝️', 5259)]\n"
          ]
        }
      ]
    },
    {
      "cell_type": "code",
      "source": [
        "emojis = {}\n",
        "errors = 0\n",
        "error_texts = []\n",
        "texts_with_emojis = []\n",
        "texts_all = []\n",
        "for text in tqdm(russian_channels[\"text\"]):\n",
        "    try:\n",
        "        emojis_list = emoji.distinct_emoji_list(text)\n",
        "    except:\n",
        "        error_texts.append(text)\n",
        "        errors += 1\n",
        "        continue\n",
        "    if len(emojis_list)>0:\n",
        "        texts_with_emojis.append(text )\n",
        "    texts_all.append(text)\n",
        "    for e in emojis_list:\n",
        "        if e in emojis:\n",
        "            emojis[e] += 1\n",
        "        else:\n",
        "            emojis[e] = 1\n",
        "top50emojis = sorted(emojis.items(),key=lambda x:x[1],reverse=True)[:50]\n",
        "print(top50emojis)"
      ],
      "metadata": {
        "colab": {
          "base_uri": "https://localhost:8080/"
        },
        "id": "itj-0V6JJXyn",
        "outputId": "1ca3e7dc-0012-45dc-ad8a-db4a42f9990d"
      },
      "execution_count": null,
      "outputs": [
        {
          "output_type": "stream",
          "name": "stderr",
          "text": [
            "100%|██████████| 73861/73861 [00:09<00:00, 7517.17it/s]"
          ]
        },
        {
          "output_type": "stream",
          "name": "stdout",
          "text": [
            "[('❗', 2441), ('⚡', 1858), ('➡️', 691), ('▪️', 568), ('🇷🇺', 266), ('🇺🇸', 192), ('🔹', 181), ('🇬🇧', 159), ('🇮🇹', 141), ('🇮🇳', 136), ('🇲🇽', 131), ('🗞', 131), ('🇧🇷', 130), ('🇫🇷', 129), ('🇵🇪', 129), ('🇮🇩', 129), ('☕', 125), ('📌', 116), ('📍', 111), ('🔸', 102), ('🗣', 96), ('👉', 90), ('❌', 85), ('📅', 66), ('🔥', 61), ('🥈', 59), ('🥉', 59), ('✈️', 59), ('🌐', 58), ('▫️', 56), ('▶️', 55), ('‼️', 53), ('📸', 51), ('🦠', 47), ('🥇', 44), ('⚽', 44), ('🗓', 40), ('🔻', 38), ('🇩🇪', 37), ('👉🏻', 37), ('🇺🇦', 35), ('📈', 35), ('🇪🇺', 34), ('💬', 32), ('📉', 31), ('💸', 31), ('💰', 30), ('✔️', 29), ('🇨🇴', 29), ('🚀', 28)]\n"
          ]
        },
        {
          "output_type": "stream",
          "name": "stderr",
          "text": [
            "\n"
          ]
        }
      ]
    },
    {
      "cell_type": "code",
      "source": [
        "emojis = {}\n",
        "errors = 0\n",
        "error_texts = []\n",
        "texts_with_emojis = []\n",
        "texts_all = []\n",
        "for text in tqdm(ukrainian_groups[\"text\"]):\n",
        "    try:\n",
        "        emojis_list = emoji.distinct_emoji_list(text)\n",
        "    except:\n",
        "        error_texts.append(text)\n",
        "        errors += 1\n",
        "        continue\n",
        "    if len(emojis_list)>0:\n",
        "        texts_with_emojis.append(text)\n",
        "    texts_all.append(text)\n",
        "    for e in emojis_list:\n",
        "        if e in emojis:\n",
        "            emojis[e] += 1\n",
        "        else:\n",
        "            emojis[e] = 1\n",
        "top50emojis = sorted(emojis.items(),key=lambda x:x[1],reverse=True)[:50]\n",
        "print(top50emojis)"
      ],
      "metadata": {
        "colab": {
          "base_uri": "https://localhost:8080/"
        },
        "id": "h6dfSjVOHQD0",
        "outputId": "ffc8d8a2-c806-4286-870a-2aecfcc9e455"
      },
      "execution_count": null,
      "outputs": [
        {
          "output_type": "stream",
          "name": "stderr",
          "text": [
            "100%|██████████| 3713436/3713436 [01:58<00:00, 31359.53it/s]"
          ]
        },
        {
          "output_type": "stream",
          "name": "stdout",
          "text": [
            "[('😂', 110182), ('🤣', 40590), ('🇺🇦', 32336), ('😁', 32123), ('👍', 23178), ('🤕', 21630), ('🌚', 20807), ('😅', 19078), ('🤔', 15901), ('🙏', 15806), ('❤️', 15727), ('❗', 13904), ('😆', 11328), ('😉', 10207), ('😭', 10130), ('😡', 10045), ('😏', 8918), ('🥺', 8771), ('🗿', 8616), ('😄', 8201), ('😳', 8161), ('👉', 8153), ('✅', 7745), ('💙', 7455), ('💛', 7436), ('⚡', 7308), ('🤬', 7253), ('😔', 6783), ('😢', 6557), ('😊', 6435), ('🙄', 6432), ('🔥', 6428), ('🇷🇺', 6357), ('🥰', 6314), ('💪', 5836), ('🙈', 5446), ('😑', 5260), ('👌', 5132), ('😍', 4659), ('☢️', 4598), ('🤡', 4494), ('🤮', 4369), ('‼️', 4349), ('🤗', 4294), ('😎', 4276), ('☺️', 4069), ('😀', 4061), ('\\U0001f972', 3712), ('🤦\\u200d♀️', 3573), ('💬', 3527)]\n"
          ]
        },
        {
          "output_type": "stream",
          "name": "stderr",
          "text": [
            "\n"
          ]
        }
      ]
    },
    {
      "cell_type": "code",
      "source": [
        "emojis = {}\n",
        "errors = 0\n",
        "error_texts = []\n",
        "texts_with_emojis = []\n",
        "texts_all = []\n",
        "for text in tqdm(ukraine_channels[\"text\"]):\n",
        "    try:\n",
        "        emojis_list = emoji.distinct_emoji_list(text)\n",
        "    except:\n",
        "        error_texts.append(text)\n",
        "        errors += 1\n",
        "        continue\n",
        "    if len(emojis_list)>0:\n",
        "        texts_with_emojis.append(text )\n",
        "    texts_all.append(text)\n",
        "    for e in emojis_list:\n",
        "        if e in emojis:\n",
        "            emojis[e] += 1\n",
        "        else:\n",
        "            emojis[e] = 1\n",
        "top50emojis = sorted(emojis.items(),key=lambda x:x[1],reverse=True)[:50]\n",
        "print(top50emojis)"
      ],
      "metadata": {
        "colab": {
          "base_uri": "https://localhost:8080/"
        },
        "id": "ZnR8LBOoJcfs",
        "outputId": "3af0d402-7ccd-4d79-b57a-a4a939b00396"
      },
      "execution_count": null,
      "outputs": [
        {
          "output_type": "stream",
          "name": "stderr",
          "text": [
            "100%|██████████| 146543/146543 [00:17<00:00, 8597.81it/s]"
          ]
        },
        {
          "output_type": "stream",
          "name": "stdout",
          "text": [
            "[('⚡', 20714), ('❗', 15484), ('🇺🇦', 10890), ('‼️', 5536), ('▪️', 3193), ('👉', 2875), ('💪', 2150), ('🔥', 1927), ('🤬', 1271), ('💬', 1212), ('🗣', 936), ('💙', 818), ('💛', 813), ('🇺🇸', 802), ('😡', 754), ('👉🏻', 728), ('☝️', 715), ('✅', 687), ('😂', 686), ('📍', 656), ('🙏', 640), ('🔴', 580), ('👆', 567), ('❌', 544), ('\\U0001f7e6', 534), ('\\U0001f7e8', 527), ('📰', 514), ('🇬🇧', 491), ('📌', 482), ('🚨', 480), ('❤️', 466), ('🤡', 437), ('🔹', 435), ('👇', 432), ('🇩🇪', 415), ('😢', 376), ('💥', 375), ('🇪🇺', 373), ('▫️', 372), ('ℹ️', 354), ('🇵🇱', 346), ('🤦\\u200d♂️', 338), ('🔻', 337), ('🔺', 328), ('🕯', 323), ('👏', 314), ('🤔', 311), ('💪🏻', 305), ('🔸', 272), ('⤵️', 261)]\n"
          ]
        },
        {
          "output_type": "stream",
          "name": "stderr",
          "text": [
            "\n"
          ]
        }
      ]
    },
    {
      "cell_type": "markdown",
      "source": [
        "# Word2Vec"
      ],
      "metadata": {
        "id": "P5w8CS0eK1dl"
      }
    },
    {
      "cell_type": "code",
      "source": [
        "a = f\"{top50emojis[0][0]}dasdasd\""
      ],
      "metadata": {
        "id": "t4QgFloJTiGq"
      },
      "execution_count": null,
      "outputs": []
    },
    {
      "cell_type": "code",
      "source": [
        "a.strip()"
      ],
      "metadata": {
        "colab": {
          "base_uri": "https://localhost:8080/",
          "height": 35
        },
        "id": "YFvZgK7lTlLb",
        "outputId": "b3d1c55c-733a-43d1-ffb5-4ebb776d520e"
      },
      "execution_count": null,
      "outputs": [
        {
          "output_type": "execute_result",
          "data": {
            "text/plain": [
              "'⚡dasdasd'"
            ],
            "application/vnd.google.colaboratory.intrinsic+json": {
              "type": "string"
            }
          },
          "metadata": {},
          "execution_count": 125
        }
      ]
    },
    {
      "cell_type": "code",
      "source": [
        "re.sub(r'[^\\w\\s]','', a)"
      ],
      "metadata": {
        "colab": {
          "base_uri": "https://localhost:8080/",
          "height": 35
        },
        "id": "WPFKdFwHToSP",
        "outputId": "d8a2badc-c60e-4449-f110-38e6ad4b7db2"
      },
      "execution_count": null,
      "outputs": [
        {
          "output_type": "execute_result",
          "data": {
            "text/plain": [
              "'dasdasd'"
            ],
            "application/vnd.google.colaboratory.intrinsic+json": {
              "type": "string"
            }
          },
          "metadata": {},
          "execution_count": 126
        }
      ]
    },
    {
      "cell_type": "code",
      "source": [
        "import re"
      ],
      "metadata": {
        "id": "HODq9uAuMaHq"
      },
      "execution_count": null,
      "outputs": []
    },
    {
      "cell_type": "code",
      "source": [
        "def text_tokenize(texts):\n",
        "    sentences = []\n",
        "    for text in tqdm(texts):\n",
        "      if isinstance(text, float):\n",
        "        continue\n",
        "      text = text.strip().lower()\n",
        "      #text = re.sub(r'[^\\w\\s]','', text)\n",
        "      sentences.append([token for token in text.split(' ') if len(token) > 0])\n",
        "    return sentences"
      ],
      "metadata": {
        "id": "bNkcTPFhLCJx"
      },
      "execution_count": null,
      "outputs": []
    },
    {
      "cell_type": "code",
      "source": [
        "model = Word2Vec(sentences=text_tokenize(ukraine_channels['text'].values), window=5, min_count=1, workers=4)"
      ],
      "metadata": {
        "colab": {
          "base_uri": "https://localhost:8080/"
        },
        "id": "HK-yHpQVQWC2",
        "outputId": "136a983c-f17d-4d32-c845-be2157604a54"
      },
      "execution_count": null,
      "outputs": [
        {
          "output_type": "stream",
          "name": "stderr",
          "text": [
            "100%|██████████| 146543/146543 [00:03<00:00, 39117.89it/s]\n"
          ]
        }
      ]
    },
    {
      "cell_type": "code",
      "source": [
        "model.wv.most_similar('🇺🇦', topn=20)"
      ],
      "metadata": {
        "colab": {
          "base_uri": "https://localhost:8080/"
        },
        "id": "pr0Qy4lFUgRz",
        "outputId": "f90b7dbe-30e2-495b-9fa2-4cdf7ef85bbd"
      },
      "execution_count": null,
      "outputs": [
        {
          "output_type": "execute_result",
          "data": {
            "text/plain": [
              "[('🇺🇦\\n\\nподписаться', 0.8490727543830872),\n",
              " ('🇺🇦\\n\\nус', 0.8194963932037354),\n",
              " ('💙💛\\n\\nус', 0.7812840938568115),\n",
              " ('💙💛', 0.7763066291809082),\n",
              " ('orchestra.', 0.7717846632003784),\n",
              " ('корисними', 0.768940806388855),\n",
              " ('сьомий', 0.7664985656738281),\n",
              " ('💪🇺🇦', 0.7662107944488525),\n",
              " ('\\nслава', 0.7645909786224365),\n",
              " ('прапор.', 0.7618374824523926),\n",
              " ('народу»\\n\\n💬«хочу', 0.7580722570419312),\n",
              " ('«безумовну', 0.7558070421218872),\n",
              " ('\\n\\nслава', 0.7544263601303101),\n",
              " ('https://youtu.be/adytifedbpg\\n\\n🇺🇦слава', 0.7517486810684204),\n",
              " ('гурт', 0.7481585144996643),\n",
              " ('перемога', 0.7461216449737549),\n",
              " ('переможе', 0.7460829019546509),\n",
              " ('завоевала', 0.7448885440826416),\n",
              " ('переможемо!', 0.7435852289199829),\n",
              " ('зустріч»,', 0.7435434460639954)]"
            ]
          },
          "metadata": {},
          "execution_count": 131
        }
      ]
    },
    {
      "cell_type": "code",
      "source": [
        "model.wv.most_similar('🇷🇺', topn=20)"
      ],
      "metadata": {
        "colab": {
          "base_uri": "https://localhost:8080/"
        },
        "id": "d47xSTdvUmof",
        "outputId": "c3f43e3f-a244-4258-b6cb-d06a09468c4e"
      },
      "execution_count": null,
      "outputs": [
        {
          "output_type": "execute_result",
          "data": {
            "text/plain": [
              "[('паломбо', 0.9644904732704163),\n",
              " ('промисловість', 0.9611089825630188),\n",
              " ('(аналоги),', 0.9590123295783997),\n",
              " ('гостомель\\n🔵', 0.9589823484420776),\n",
              " ('1959', 0.9589088559150696),\n",
              " ('על', 0.9583061933517456),\n",
              " ('реєструйтеся,', 0.9581928253173828),\n",
              " ('ліги', 0.9578946232795715),\n",
              " ('чырвонаю', 0.9578127264976501),\n",
              " ('луіс', 0.9576483964920044),\n",
              " ('group,', 0.9574514031410217),\n",
              " ('(nyse:', 0.9574199914932251),\n",
              " ('теннисистка', 0.9572753310203552),\n",
              " ('honeywell,', 0.9572562575340271),\n",
              " ('ирпень\\n🔵', 0.9566531777381897),\n",
              " ('пояснення', 0.9565669298171997),\n",
              " ('зазимье', 0.956415057182312),\n",
              " ('сірий', 0.9561951756477356),\n",
              " ('корекція', 0.9561833143234253),\n",
              " ('machinery', 0.9559760093688965)]"
            ]
          },
          "metadata": {},
          "execution_count": 132
        }
      ]
    },
    {
      "cell_type": "code",
      "source": [
        "model.wv.most_similar('🤡', topn=20)"
      ],
      "metadata": {
        "colab": {
          "base_uri": "https://localhost:8080/"
        },
        "id": "Wz16j8wxQTEv",
        "outputId": "35cf50c4-8a29-4353-cad3-9114aef53592"
      },
      "execution_count": null,
      "outputs": [
        {
          "output_type": "execute_result",
          "data": {
            "text/plain": [
              "[(\"п'єтро\", 0.9300136566162109),\n",
              " ('промову', 0.9262300133705139),\n",
              " ('ерік', 0.9147664308547974),\n",
              " ('\\n\\n▪️після', 0.9089909791946411),\n",
              " ('розкритикував', 0.9055419564247131),\n",
              " ('🤷🏻', 0.905398428440094),\n",
              " ('https://www.facebook.com/olafscholz/', 0.9050774574279785),\n",
              " ('кандидатка', 0.9046105146408081),\n",
              " ('шахтаря', 0.9043823480606079),\n",
              " ('\\n\\nміжнародний', 0.9037996530532837),\n",
              " ('речника', 0.9037374258041382),\n",
              " ('оцінили', 0.9033488631248474),\n",
              " ('відомство', 0.9033288955688477),\n",
              " ('\"воєнну', 0.902886152267456),\n",
              " ('“пересидки”', 0.9026956558227539),\n",
              " ('🇷🇺', 0.9026389122009277),\n",
              " ('\\n\\n🗣', 0.9025277495384216),\n",
              " ('каліфорнії', 0.9010022878646851),\n",
              " ('⛪️', 0.8993145823478699),\n",
              " ('\\n\\nвідзнаки', 0.8987854719161987)]"
            ]
          },
          "metadata": {},
          "execution_count": 130
        }
      ]
    },
    {
      "cell_type": "code",
      "source": [
        "model = Word2Vec(sentences=text_tokenize(russian_channels['text'].values), window=5, min_count=1, workers=4)"
      ],
      "metadata": {
        "colab": {
          "base_uri": "https://localhost:8080/"
        },
        "id": "KToTAdKPULII",
        "outputId": "ec56ab04-a729-4507-ff5b-dda1b8199830"
      },
      "execution_count": null,
      "outputs": [
        {
          "output_type": "stream",
          "name": "stderr",
          "text": [
            "100%|██████████| 73861/73861 [00:03<00:00, 19644.11it/s]\n"
          ]
        }
      ]
    },
    {
      "cell_type": "code",
      "source": [
        "model.wv.most_similar('🇺🇦', topn=20)"
      ],
      "metadata": {
        "colab": {
          "base_uri": "https://localhost:8080/"
        },
        "id": "XYe4MaIfU2IG",
        "outputId": "080ff75b-33a5-4115-99a7-102b524a9234"
      },
      "execution_count": null,
      "outputs": [
        {
          "output_type": "execute_result",
          "data": {
            "text/plain": [
              "[('петр', 0.8953961730003357),\n",
              " ('«радио', 0.8901287317276001),\n",
              " ('замгендиректора', 0.8843158483505249),\n",
              " ('петровский,', 0.8822817802429199),\n",
              " ('писатель', 0.8821851015090942),\n",
              " ('бен', 0.8794484734535217),\n",
              " ('садреев,', 0.878643810749054),\n",
              " ('ходорковский,', 0.8777594566345215),\n",
              " ('инженер-изобретатель', 0.8748210072517395),\n",
              " ('мазепин;\\n\\n—', 0.8743422627449036),\n",
              " ('толстой,', 0.874336838722229),\n",
              " ('🎾', 0.8732948303222656),\n",
              " ('саночница', 0.872936487197876),\n",
              " ('всемирная', 0.872520923614502),\n",
              " ('эрнст', 0.871976912021637),\n",
              " ('🥉российский', 0.8718398809432983),\n",
              " ('светлана', 0.8716432452201843),\n",
              " ('(2-я', 0.8714303374290466),\n",
              " ('артем', 0.870481014251709),\n",
              " ('мазепин', 0.8702775239944458)]"
            ]
          },
          "metadata": {},
          "execution_count": 135
        }
      ]
    },
    {
      "cell_type": "code",
      "source": [
        "model.wv.most_similar('🇷🇺', topn=20)"
      ],
      "metadata": {
        "colab": {
          "base_uri": "https://localhost:8080/"
        },
        "id": "sQVu3TLCU32P",
        "outputId": "7313f41e-452e-4e33-c193-98c524703a1c"
      },
      "execution_count": null,
      "outputs": [
        {
          "output_type": "execute_result",
          "data": {
            "text/plain": [
              "[('371', 0.975664496421814),\n",
              " ('951', 0.9673516750335693),\n",
              " ('038', 0.9667233228683472),\n",
              " ('034', 0.9636620283126831),\n",
              " ('369', 0.9601402282714844),\n",
              " ('001', 0.9592181444168091),\n",
              " ('194\\n4.', 0.9564080238342285),\n",
              " ('365', 0.9563407897949219),\n",
              " ('362', 0.9536942839622498),\n",
              " ('054', 0.9453003406524658),\n",
              " ('334', 0.9443234205245972),\n",
              " ('990', 0.9442243576049805),\n",
              " ('749\\n4.', 0.9434864521026611),\n",
              " ('938', 0.9434280395507812),\n",
              " ('767', 0.9428521990776062),\n",
              " ('067\\n4.', 0.9418493509292603),\n",
              " ('945', 0.9417434930801392),\n",
              " ('372\\n4.', 0.9415859580039978),\n",
              " ('993', 0.9415284395217896),\n",
              " ('679', 0.9405739307403564)]"
            ]
          },
          "metadata": {},
          "execution_count": 136
        }
      ]
    },
    {
      "cell_type": "code",
      "source": [
        "model.wv.most_similar('🤡', topn=20)"
      ],
      "metadata": {
        "colab": {
          "base_uri": "https://localhost:8080/",
          "height": 318
        },
        "id": "o_LalgbRU34j",
        "outputId": "693f9247-7565-4323-dd2b-788fb2423e37"
      },
      "execution_count": null,
      "outputs": [
        {
          "output_type": "error",
          "ename": "KeyError",
          "evalue": "ignored",
          "traceback": [
            "\u001b[0;31m---------------------------------------------------------------------------\u001b[0m",
            "\u001b[0;31mKeyError\u001b[0m                                  Traceback (most recent call last)",
            "\u001b[0;32m<ipython-input-137-33307b7ef9fa>\u001b[0m in \u001b[0;36m<module>\u001b[0;34m()\u001b[0m\n\u001b[0;32m----> 1\u001b[0;31m \u001b[0mmodel\u001b[0m\u001b[0;34m.\u001b[0m\u001b[0mwv\u001b[0m\u001b[0;34m.\u001b[0m\u001b[0mmost_similar\u001b[0m\u001b[0;34m(\u001b[0m\u001b[0;34m'🤡'\u001b[0m\u001b[0;34m,\u001b[0m \u001b[0mtopn\u001b[0m\u001b[0;34m=\u001b[0m\u001b[0;36m20\u001b[0m\u001b[0;34m)\u001b[0m\u001b[0;34m\u001b[0m\u001b[0;34m\u001b[0m\u001b[0m\n\u001b[0m",
            "\u001b[0;32m/usr/local/lib/python3.7/dist-packages/gensim/models/keyedvectors.py\u001b[0m in \u001b[0;36mmost_similar\u001b[0;34m(self, positive, negative, topn, restrict_vocab, indexer)\u001b[0m\n\u001b[1;32m    529\u001b[0m                 \u001b[0mmean\u001b[0m\u001b[0;34m.\u001b[0m\u001b[0mappend\u001b[0m\u001b[0;34m(\u001b[0m\u001b[0mweight\u001b[0m \u001b[0;34m*\u001b[0m \u001b[0mword\u001b[0m\u001b[0;34m)\u001b[0m\u001b[0;34m\u001b[0m\u001b[0;34m\u001b[0m\u001b[0m\n\u001b[1;32m    530\u001b[0m             \u001b[0;32melse\u001b[0m\u001b[0;34m:\u001b[0m\u001b[0;34m\u001b[0m\u001b[0;34m\u001b[0m\u001b[0m\n\u001b[0;32m--> 531\u001b[0;31m                 \u001b[0mmean\u001b[0m\u001b[0;34m.\u001b[0m\u001b[0mappend\u001b[0m\u001b[0;34m(\u001b[0m\u001b[0mweight\u001b[0m \u001b[0;34m*\u001b[0m \u001b[0mself\u001b[0m\u001b[0;34m.\u001b[0m\u001b[0mword_vec\u001b[0m\u001b[0;34m(\u001b[0m\u001b[0mword\u001b[0m\u001b[0;34m,\u001b[0m \u001b[0muse_norm\u001b[0m\u001b[0;34m=\u001b[0m\u001b[0;32mTrue\u001b[0m\u001b[0;34m)\u001b[0m\u001b[0;34m)\u001b[0m\u001b[0;34m\u001b[0m\u001b[0;34m\u001b[0m\u001b[0m\n\u001b[0m\u001b[1;32m    532\u001b[0m                 \u001b[0;32mif\u001b[0m \u001b[0mword\u001b[0m \u001b[0;32min\u001b[0m \u001b[0mself\u001b[0m\u001b[0;34m.\u001b[0m\u001b[0mvocab\u001b[0m\u001b[0;34m:\u001b[0m\u001b[0;34m\u001b[0m\u001b[0;34m\u001b[0m\u001b[0m\n\u001b[1;32m    533\u001b[0m                     \u001b[0mall_words\u001b[0m\u001b[0;34m.\u001b[0m\u001b[0madd\u001b[0m\u001b[0;34m(\u001b[0m\u001b[0mself\u001b[0m\u001b[0;34m.\u001b[0m\u001b[0mvocab\u001b[0m\u001b[0;34m[\u001b[0m\u001b[0mword\u001b[0m\u001b[0;34m]\u001b[0m\u001b[0;34m.\u001b[0m\u001b[0mindex\u001b[0m\u001b[0;34m)\u001b[0m\u001b[0;34m\u001b[0m\u001b[0;34m\u001b[0m\u001b[0m\n",
            "\u001b[0;32m/usr/local/lib/python3.7/dist-packages/gensim/models/keyedvectors.py\u001b[0m in \u001b[0;36mword_vec\u001b[0;34m(self, word, use_norm)\u001b[0m\n\u001b[1;32m    450\u001b[0m             \u001b[0;32mreturn\u001b[0m \u001b[0mresult\u001b[0m\u001b[0;34m\u001b[0m\u001b[0;34m\u001b[0m\u001b[0m\n\u001b[1;32m    451\u001b[0m         \u001b[0;32melse\u001b[0m\u001b[0;34m:\u001b[0m\u001b[0;34m\u001b[0m\u001b[0;34m\u001b[0m\u001b[0m\n\u001b[0;32m--> 452\u001b[0;31m             \u001b[0;32mraise\u001b[0m \u001b[0mKeyError\u001b[0m\u001b[0;34m(\u001b[0m\u001b[0;34m\"word '%s' not in vocabulary\"\u001b[0m \u001b[0;34m%\u001b[0m \u001b[0mword\u001b[0m\u001b[0;34m)\u001b[0m\u001b[0;34m\u001b[0m\u001b[0;34m\u001b[0m\u001b[0m\n\u001b[0m\u001b[1;32m    453\u001b[0m \u001b[0;34m\u001b[0m\u001b[0m\n\u001b[1;32m    454\u001b[0m     \u001b[0;32mdef\u001b[0m \u001b[0mget_vector\u001b[0m\u001b[0;34m(\u001b[0m\u001b[0mself\u001b[0m\u001b[0;34m,\u001b[0m \u001b[0mword\u001b[0m\u001b[0;34m)\u001b[0m\u001b[0;34m:\u001b[0m\u001b[0;34m\u001b[0m\u001b[0;34m\u001b[0m\u001b[0m\n",
            "\u001b[0;31mKeyError\u001b[0m: \"word '🤡' not in vocabulary\""
          ]
        }
      ]
    },
    {
      "cell_type": "markdown",
      "source": [
        "# Find user intersection"
      ],
      "metadata": {
        "id": "JrWyRC7VMe9H"
      }
    },
    {
      "cell_type": "code",
      "source": [
        "ukr_users = ukrainian_groups.from_id.values\n",
        "rus_users = russian_groups.from_id.values"
      ],
      "metadata": {
        "id": "VFM76ytMMhml"
      },
      "execution_count": null,
      "outputs": []
    },
    {
      "cell_type": "code",
      "source": [
        "N = 2000"
      ],
      "metadata": {
        "id": "xAih0LgwYOf5"
      },
      "execution_count": null,
      "outputs": []
    },
    {
      "cell_type": "code",
      "source": [
        "common_users = list(set(ukr_users).intersection(set(rus_users)))[:N]"
      ],
      "metadata": {
        "id": "My_wqYs6L6fe"
      },
      "execution_count": null,
      "outputs": []
    },
    {
      "cell_type": "code",
      "source": [
        "len(common_users)"
      ],
      "metadata": {
        "colab": {
          "base_uri": "https://localhost:8080/"
        },
        "id": "jcLTya-rNFH3",
        "outputId": "57c684d1-7d21-44d5-b5d4-109866dc68ac"
      },
      "execution_count": null,
      "outputs": [
        {
          "output_type": "execute_result",
          "data": {
            "text/plain": [
              "2000"
            ]
          },
          "metadata": {},
          "execution_count": 148
        }
      ]
    },
    {
      "cell_type": "markdown",
      "source": [
        "# Language analysis & sentiment analysis"
      ],
      "metadata": {
        "id": "JMzoBj2_L3ke"
      }
    },
    {
      "cell_type": "code",
      "source": [
        "pip install fasttext\n"
      ],
      "metadata": {
        "colab": {
          "base_uri": "https://localhost:8080/"
        },
        "id": "cA8eYsJ8WR4K",
        "outputId": "88109bf3-9b01-4f0d-8dea-75ebbbc374d3"
      },
      "execution_count": null,
      "outputs": [
        {
          "output_type": "stream",
          "name": "stdout",
          "text": [
            "Looking in indexes: https://pypi.org/simple, https://us-python.pkg.dev/colab-wheels/public/simple/\n",
            "Collecting fasttext\n",
            "  Downloading fasttext-0.9.2.tar.gz (68 kB)\n",
            "\u001b[K     |████████████████████████████████| 68 kB 2.9 MB/s \n",
            "\u001b[?25hCollecting pybind11>=2.2\n",
            "  Using cached pybind11-2.10.0-py3-none-any.whl (213 kB)\n",
            "Requirement already satisfied: setuptools>=0.7.0 in /usr/local/lib/python3.7/dist-packages (from fasttext) (57.4.0)\n",
            "Requirement already satisfied: numpy in /usr/local/lib/python3.7/dist-packages (from fasttext) (1.21.6)\n",
            "Building wheels for collected packages: fasttext\n",
            "  Building wheel for fasttext (setup.py) ... \u001b[?25l\u001b[?25hdone\n",
            "  Created wheel for fasttext: filename=fasttext-0.9.2-cp37-cp37m-linux_x86_64.whl size=3161998 sha256=e4162d9eba5002a0403848bc921c195b4efb3d8aac093459965c81f948ece454\n",
            "  Stored in directory: /root/.cache/pip/wheels/4e/ca/bf/b020d2be95f7641801a6597a29c8f4f19e38f9c02a345bab9b\n",
            "Successfully built fasttext\n",
            "Installing collected packages: pybind11, fasttext\n",
            "Successfully installed fasttext-0.9.2 pybind11-2.10.0\n"
          ]
        }
      ]
    },
    {
      "cell_type": "code",
      "source": [
        "!wget -O /tmp/lid.176.bin https://dl.fbaipublicfiles.com/fasttext/supervised-models/lid.176.bin"
      ],
      "metadata": {
        "colab": {
          "base_uri": "https://localhost:8080/"
        },
        "id": "hfPpX99bWT1W",
        "outputId": "24d47cb3-7e0f-4b94-f294-3201081f334d"
      },
      "execution_count": null,
      "outputs": [
        {
          "output_type": "stream",
          "name": "stdout",
          "text": [
            "--2022-08-03 15:38:01--  https://dl.fbaipublicfiles.com/fasttext/supervised-models/lid.176.bin\n",
            "Resolving dl.fbaipublicfiles.com (dl.fbaipublicfiles.com)... 172.67.9.4, 104.22.74.142, 104.22.75.142, ...\n",
            "Connecting to dl.fbaipublicfiles.com (dl.fbaipublicfiles.com)|172.67.9.4|:443... connected.\n",
            "HTTP request sent, awaiting response... 200 OK\n",
            "Length: 131266198 (125M) [application/octet-stream]\n",
            "Saving to: ‘/tmp/lid.176.bin’\n",
            "\n",
            "/tmp/lid.176.bin    100%[===================>] 125.18M  36.3MB/s    in 4.0s    \n",
            "\n",
            "2022-08-03 15:38:06 (31.5 MB/s) - ‘/tmp/lid.176.bin’ saved [131266198/131266198]\n",
            "\n"
          ]
        }
      ]
    },
    {
      "cell_type": "code",
      "source": [
        "import fasttext\n",
        "\n",
        "PRETRAINED_MODEL_PATH = '/tmp/lid.176.bin'\n",
        "model = fasttext.load_model(PRETRAINED_MODEL_PATH)"
      ],
      "metadata": {
        "colab": {
          "base_uri": "https://localhost:8080/"
        },
        "id": "hABwqcCWWUnI",
        "outputId": "5a340b56-ac48-482f-cb1b-f936f747c825"
      },
      "execution_count": null,
      "outputs": [
        {
          "output_type": "stream",
          "name": "stderr",
          "text": [
            "Warning : `load_model` does not return WordVectorModel or SupervisedModel any more, but a `FastText` object which is very similar.\n"
          ]
        }
      ]
    },
    {
      "cell_type": "code",
      "source": [
        "predictions = model.predict('привет як справи')"
      ],
      "metadata": {
        "id": "paGUyJZGWWgN"
      },
      "execution_count": null,
      "outputs": []
    },
    {
      "cell_type": "code",
      "source": [
        "predictions[0][0]"
      ],
      "metadata": {
        "colab": {
          "base_uri": "https://localhost:8080/",
          "height": 35
        },
        "id": "Tcw1W2sFW_j-",
        "outputId": "24114852-e874-43c0-d304-4303d8f26acb"
      },
      "execution_count": null,
      "outputs": [
        {
          "output_type": "execute_result",
          "data": {
            "text/plain": [
              "'__label__uk'"
            ],
            "application/vnd.google.colaboratory.intrinsic+json": {
              "type": "string"
            }
          },
          "metadata": {},
          "execution_count": 162
        }
      ]
    },
    {
      "cell_type": "code",
      "source": [
        "ukrainian_groups = ukrainian_groups[ukrainian_groups.from_id.isin(common_users)]"
      ],
      "metadata": {
        "id": "mf2APduYLCTR"
      },
      "execution_count": null,
      "outputs": []
    },
    {
      "cell_type": "code",
      "source": [
        "russian_groups = russian_groups[russian_groups.from_id.isin(common_users)]"
      ],
      "metadata": {
        "id": "kWHia4-4NcCR"
      },
      "execution_count": null,
      "outputs": []
    },
    {
      "cell_type": "code",
      "source": [
        "model.predict('Надо объявить мобилизацию частичную и как в во. hello my dear frieds')"
      ],
      "metadata": {
        "colab": {
          "base_uri": "https://localhost:8080/"
        },
        "id": "5UOeiTV0RiS8",
        "outputId": "526326c6-7d0e-4bd6-f609-4c1331fa84f2"
      },
      "execution_count": null,
      "outputs": [
        {
          "output_type": "execute_result",
          "data": {
            "text/plain": [
              "(('__label__ru',), array([0.9935081]))"
            ]
          },
          "metadata": {},
          "execution_count": 165
        }
      ]
    },
    {
      "cell_type": "code",
      "source": [
        "def get_text_lang(x):\n",
        "  try:\n",
        "    lang = model.predict(x.lower().strip())[0][0]\n",
        "    if lang in ['__label__ru', '__label__uk', '__label__en']:\n",
        "      return lang\n",
        "    return 'unknown'\n",
        "  except:\n",
        "    return 'unknown'"
      ],
      "metadata": {
        "id": "-XL-IADUUqFC"
      },
      "execution_count": null,
      "outputs": []
    },
    {
      "cell_type": "code",
      "source": [
        "russian_groups['text_language'] = russian_groups.text.apply(lambda x: get_text_lang(x))"
      ],
      "metadata": {
        "id": "RuZMgQLdNhZ1"
      },
      "execution_count": null,
      "outputs": []
    },
    {
      "cell_type": "code",
      "source": [
        "ukrainian_groups['text_language'] = ukrainian_groups.text.apply(lambda x: get_text_lang(x))"
      ],
      "metadata": {
        "id": "3ndRBcRBU4Q8"
      },
      "execution_count": null,
      "outputs": []
    },
    {
      "cell_type": "code",
      "source": [
        "most_common_in_ukr = ukrainian_groups.groupby('from_id')['text_language'].agg(lambda x:x.value_counts().index[0]).reset_index()"
      ],
      "metadata": {
        "id": "B4WkWyBFX-h1"
      },
      "execution_count": null,
      "outputs": []
    },
    {
      "cell_type": "code",
      "source": [
        "most_common_in_ru = russian_groups.groupby('from_id')['text_language'].agg(lambda x:x.value_counts().index[0]).reset_index()"
      ],
      "metadata": {
        "id": "_YW6CU6UZtdk"
      },
      "execution_count": null,
      "outputs": []
    },
    {
      "cell_type": "code",
      "source": [
        "diffs = []\n",
        "for ukr_line, ru_line in zip(most_common_in_ukr.values, most_common_in_ru.values):\n",
        "  ukr_id, ukr_lang = ukr_line\n",
        "  ru_id, ru_lang = ru_line\n",
        "  if ukr_lang != 'unknown' and ru_lang != 'unknown':\n",
        "    if ukr_lang != ru_lang:\n",
        "      diffs.append([ukr_id, ru_id, ukr_lang, ru_lang])"
      ],
      "metadata": {
        "id": "6qiFnkxOdQQE"
      },
      "execution_count": null,
      "outputs": []
    },
    {
      "cell_type": "code",
      "source": [
        "len(diffs)"
      ],
      "metadata": {
        "colab": {
          "base_uri": "https://localhost:8080/"
        },
        "id": "FS8t6b2BaoRQ",
        "outputId": "18554213-220f-4d15-9f92-3617711f290f"
      },
      "execution_count": null,
      "outputs": [
        {
          "output_type": "execute_result",
          "data": {
            "text/plain": [
              "145"
            ]
          },
          "metadata": {},
          "execution_count": 223
        }
      ]
    },
    {
      "cell_type": "code",
      "source": [
        "diffs"
      ],
      "metadata": {
        "colab": {
          "base_uri": "https://localhost:8080/"
        },
        "id": "8BqkajvWZQiA",
        "outputId": "f2743b59-687a-42e9-c53e-f6b37c23ecb4"
      },
      "execution_count": null,
      "outputs": [
        {
          "output_type": "execute_result",
          "data": {
            "text/plain": [
              "[['user1009620326', 'user1009620326', '__label__uk', '__label__ru'],\n",
              " ['user1042633232', 'user1042633232', '__label__uk', '__label__ru'],\n",
              " ['user1049179973', 'user1049179973', '__label__uk', '__label__ru'],\n",
              " ['user1055479537', 'user1055479537', '__label__uk', '__label__ru'],\n",
              " ['user1062576516', 'user1062576516', '__label__uk', '__label__ru'],\n",
              " ['user1068449433', 'user1068449433', '__label__uk', '__label__ru'],\n",
              " ['user1080416020', 'user1080416020', '__label__uk', '__label__ru'],\n",
              " ['user109616080', 'user109616080', '__label__uk', '__label__ru'],\n",
              " ['user1103925774', 'user1103925774', '__label__ru', '__label__uk'],\n",
              " ['user1105939218', 'user1105939218', '__label__uk', '__label__ru'],\n",
              " ['user1121054239', 'user1121054239', '__label__uk', '__label__ru'],\n",
              " ['user1137927652', 'user1137927652', '__label__uk', '__label__ru'],\n",
              " ['user1146688452', 'user1146688452', '__label__uk', '__label__ru'],\n",
              " ['user1162511264', 'user1162511264', '__label__uk', '__label__ru'],\n",
              " ['user1174225474', 'user1174225474', '__label__uk', '__label__ru'],\n",
              " ['user1178346981', 'user1178346981', '__label__uk', '__label__ru'],\n",
              " ['user1187017919', 'user1187017919', '__label__uk', '__label__ru'],\n",
              " ['user1250748682', 'user1250748682', '__label__uk', '__label__ru'],\n",
              " ['user1274318641', 'user1274318641', '__label__uk', '__label__ru'],\n",
              " ['user1274560007', 'user1274560007', '__label__ru', '__label__uk'],\n",
              " ['user1306363611', 'user1306363611', '__label__uk', '__label__ru'],\n",
              " ['user1310610106', 'user1310610106', '__label__ru', '__label__uk'],\n",
              " ['user1336782029', 'user1336782029', '__label__uk', '__label__ru'],\n",
              " ['user1349134552', 'user1349134552', '__label__uk', '__label__ru'],\n",
              " ['user1412354662', 'user1412354662', '__label__ru', '__label__en'],\n",
              " ['user1460162808', 'user1460162808', '__label__uk', '__label__ru'],\n",
              " ['user1474936147', 'user1474936147', '__label__ru', '__label__uk'],\n",
              " ['user1537755580', 'user1537755580', '__label__uk', '__label__ru'],\n",
              " ['user1556980395', 'user1556980395', '__label__uk', '__label__ru'],\n",
              " ['user1569012806', 'user1569012806', '__label__uk', '__label__ru'],\n",
              " ['user1670063755', 'user1670063755', '__label__ru', '__label__en'],\n",
              " ['user1723130319', 'user1723130319', '__label__uk', '__label__ru'],\n",
              " ['user1850908665', 'user1850908665', '__label__uk', '__label__ru'],\n",
              " ['user1858293858', 'user1858293858', '__label__ru', '__label__en'],\n",
              " ['user1888197619', 'user1888197619', '__label__uk', '__label__ru'],\n",
              " ['user1922771910', 'user1922771910', '__label__en', '__label__ru'],\n",
              " ['user1925385977', 'user1925385977', '__label__uk', '__label__ru'],\n",
              " ['user1926710348', 'user1926710348', '__label__uk', '__label__ru'],\n",
              " ['user2033224967', 'user2033224967', '__label__ru', '__label__uk'],\n",
              " ['user2034019944', 'user2034019944', '__label__uk', '__label__ru'],\n",
              " ['user204064526', 'user204064526', '__label__uk', '__label__ru'],\n",
              " ['user205763416', 'user205763416', '__label__uk', '__label__ru'],\n",
              " ['user2121512031', 'user2121512031', '__label__ru', '__label__uk'],\n",
              " ['user2142557248', 'user2142557248', '__label__uk', '__label__ru'],\n",
              " ['user225664408', 'user225664408', '__label__uk', '__label__ru'],\n",
              " ['user226184564', 'user226184564', '__label__uk', '__label__ru'],\n",
              " ['user231215952', 'user231215952', '__label__uk', '__label__ru'],\n",
              " ['user252790265', 'user252790265', '__label__uk', '__label__ru'],\n",
              " ['user269864781', 'user269864781', '__label__uk', '__label__ru'],\n",
              " ['user297829396', 'user297829396', '__label__uk', '__label__ru'],\n",
              " ['user337298182', 'user337298182', '__label__ru', '__label__uk'],\n",
              " ['user341273989', 'user341273989', '__label__uk', '__label__ru'],\n",
              " ['user347575575', 'user347575575', '__label__uk', '__label__ru'],\n",
              " ['user363112227', 'user363112227', '__label__uk', '__label__ru'],\n",
              " ['user373994107', 'user373994107', '__label__uk', '__label__ru'],\n",
              " ['user377752430', 'user377752430', '__label__ru', '__label__uk'],\n",
              " ['user386601849', 'user386601849', '__label__uk', '__label__ru'],\n",
              " ['user393553285', 'user393553285', '__label__uk', '__label__ru'],\n",
              " ['user401358629', 'user401358629', '__label__ru', '__label__uk'],\n",
              " ['user408198644', 'user408198644', '__label__ru', '__label__uk'],\n",
              " ['user433152533', 'user433152533', '__label__uk', '__label__ru'],\n",
              " ['user436958434', 'user436958434', '__label__en', '__label__ru'],\n",
              " ['user441072657', 'user441072657', '__label__uk', '__label__ru'],\n",
              " ['user441735422', 'user441735422', '__label__uk', '__label__ru'],\n",
              " ['user447903856', 'user447903856', '__label__uk', '__label__ru'],\n",
              " ['user449575681', 'user449575681', '__label__uk', '__label__ru'],\n",
              " ['user460418672', 'user460418672', '__label__uk', '__label__ru'],\n",
              " ['user460600678', 'user460600678', '__label__uk', '__label__ru'],\n",
              " ['user467981120', 'user467981120', '__label__uk', '__label__ru'],\n",
              " ['user472000751', 'user472000751', '__label__uk', '__label__ru'],\n",
              " ['user477981416', 'user477981416', '__label__uk', '__label__ru'],\n",
              " ['user481835017', 'user481835017', '__label__uk', '__label__ru'],\n",
              " ['user483864155', 'user483864155', '__label__uk', '__label__ru'],\n",
              " ['user485197940', 'user485197940', '__label__uk', '__label__ru'],\n",
              " ['user488653744', 'user488653744', '__label__uk', '__label__ru'],\n",
              " ['user497079934', 'user497079934', '__label__uk', '__label__ru'],\n",
              " ['user497496588', 'user497496588', '__label__uk', '__label__ru'],\n",
              " ['user499247665', 'user499247665', '__label__uk', '__label__ru'],\n",
              " ['user5035658823', 'user5035658823', '__label__ru', '__label__uk'],\n",
              " ['user5036296183', 'user5036296183', '__label__uk', '__label__ru'],\n",
              " ['user5043630412', 'user5043630412', '__label__uk', '__label__ru'],\n",
              " ['user5071071264', 'user5071071264', '__label__uk', '__label__ru'],\n",
              " ['user5082376900', 'user5082376900', '__label__ru', '__label__uk'],\n",
              " ['user510157311', 'user510157311', '__label__ru', '__label__uk'],\n",
              " ['user5103770778', 'user5103770778', '__label__uk', '__label__ru'],\n",
              " ['user512596092', 'user512596092', '__label__ru', '__label__uk'],\n",
              " ['user5148032819', 'user5148032819', '__label__uk', '__label__ru'],\n",
              " ['user5153827912', 'user5153827912', '__label__uk', '__label__ru'],\n",
              " ['user5162880217', 'user5162880217', '__label__ru', '__label__en'],\n",
              " ['user5163207975', 'user5163207975', '__label__uk', '__label__ru'],\n",
              " ['user5192018067', 'user5192018067', '__label__ru', '__label__en'],\n",
              " ['user5200929432', 'user5200929432', '__label__uk', '__label__ru'],\n",
              " ['user5210792101', 'user5210792101', '__label__uk', '__label__ru'],\n",
              " ['user5236973392', 'user5236973392', '__label__uk', '__label__ru'],\n",
              " ['user5237462212', 'user5237462212', '__label__uk', '__label__ru'],\n",
              " ['user5265067257', 'user5265067257', '__label__uk', '__label__ru'],\n",
              " ['user5266944150', 'user5266944150', '__label__uk', '__label__ru'],\n",
              " ['user5283394304', 'user5283394304', '__label__uk', '__label__ru'],\n",
              " ['user5288010182', 'user5288010182', '__label__ru', '__label__uk'],\n",
              " ['user5290370319', 'user5290370319', '__label__ru', '__label__en'],\n",
              " ['user5292910997', 'user5292910997', '__label__uk', '__label__ru'],\n",
              " ['user531082053', 'user531082053', '__label__uk', '__label__ru'],\n",
              " ['user5322654525', 'user5322654525', '__label__uk', '__label__ru'],\n",
              " ['user534220054', 'user534220054', '__label__uk', '__label__ru'],\n",
              " ['user534633136', 'user534633136', '__label__uk', '__label__ru'],\n",
              " ['user534874537', 'user534874537', '__label__uk', '__label__en'],\n",
              " ['user5367201370', 'user5367201370', '__label__uk', '__label__ru'],\n",
              " ['user541994189', 'user541994189', '__label__uk', '__label__ru'],\n",
              " ['user557236831', 'user557236831', '__label__uk', '__label__ru'],\n",
              " ['user577599161', 'user577599161', '__label__ru', '__label__en'],\n",
              " ['user577848444', 'user577848444', '__label__uk', '__label__ru'],\n",
              " ['user577956216', 'user577956216', '__label__en', '__label__ru'],\n",
              " ['user585778415', 'user585778415', '__label__ru', '__label__uk'],\n",
              " ['user585894007', 'user585894007', '__label__uk', '__label__ru'],\n",
              " ['user615274018', 'user615274018', '__label__uk', '__label__ru'],\n",
              " ['user619663681', 'user619663681', '__label__uk', '__label__ru'],\n",
              " ['user620007113', 'user620007113', '__label__ru', '__label__uk'],\n",
              " ['user624559517', 'user624559517', '__label__uk', '__label__ru'],\n",
              " ['user633304966', 'user633304966', '__label__uk', '__label__ru'],\n",
              " ['user646291856', 'user646291856', '__label__ru', '__label__uk'],\n",
              " ['user647781705', 'user647781705', '__label__uk', '__label__ru'],\n",
              " ['user671010926', 'user671010926', '__label__uk', '__label__ru'],\n",
              " ['user680376965', 'user680376965', '__label__ru', '__label__uk'],\n",
              " ['user698127466', 'user698127466', '__label__ru', '__label__uk'],\n",
              " ['user722961217', 'user722961217', '__label__ru', '__label__uk'],\n",
              " ['user733232751', 'user733232751', '__label__uk', '__label__ru'],\n",
              " ['user735082716', 'user735082716', '__label__uk', '__label__ru'],\n",
              " ['user757609809', 'user757609809', '__label__ru', '__label__uk'],\n",
              " ['user770741797', 'user770741797', '__label__en', '__label__ru'],\n",
              " ['user773489815', 'user773489815', '__label__uk', '__label__ru'],\n",
              " ['user776224461', 'user776224461', '__label__uk', '__label__ru'],\n",
              " ['user813062991', 'user813062991', '__label__uk', '__label__ru'],\n",
              " ['user815467902', 'user815467902', '__label__uk', '__label__ru'],\n",
              " ['user820982784', 'user820982784', '__label__uk', '__label__ru'],\n",
              " ['user822755256', 'user822755256', '__label__uk', '__label__ru'],\n",
              " ['user828913940', 'user828913940', '__label__uk', '__label__ru'],\n",
              " ['user832843734', 'user832843734', '__label__ru', '__label__en'],\n",
              " ['user845795976', 'user845795976', '__label__uk', '__label__ru'],\n",
              " ['user863568997', 'user863568997', '__label__uk', '__label__ru'],\n",
              " ['user881634121', 'user881634121', '__label__uk', '__label__ru'],\n",
              " ['user883587515', 'user883587515', '__label__en', '__label__ru'],\n",
              " ['user887325999', 'user887325999', '__label__ru', '__label__en'],\n",
              " ['user914771253', 'user914771253', '__label__ru', '__label__uk'],\n",
              " ['user949955045', 'user949955045', '__label__ru', '__label__uk'],\n",
              " ['user977671501', 'user977671501', '__label__uk', '__label__ru']]"
            ]
          },
          "metadata": {},
          "execution_count": 222
        }
      ]
    },
    {
      "cell_type": "code",
      "source": [
        "russian_groups.text_language.value_counts()"
      ],
      "metadata": {
        "colab": {
          "base_uri": "https://localhost:8080/"
        },
        "id": "pxv1wvtzNi-Q",
        "outputId": "c424a784-084b-4149-a23f-b7b5baf4c988"
      },
      "execution_count": null,
      "outputs": [
        {
          "output_type": "execute_result",
          "data": {
            "text/plain": [
              "__label__ru    28225\n",
              "unknown         4452\n",
              "__label__uk     1089\n",
              "__label__en      146\n",
              "Name: text_language, dtype: int64"
            ]
          },
          "metadata": {},
          "execution_count": 193
        }
      ]
    },
    {
      "cell_type": "code",
      "source": [
        "ukrainian_groups.text_language.value_counts()"
      ],
      "metadata": {
        "colab": {
          "base_uri": "https://localhost:8080/"
        },
        "id": "r4nJM0AsZT-t",
        "outputId": "cda80205-f5d7-4829-f222-f3dbefcbf8c1"
      },
      "execution_count": null,
      "outputs": [
        {
          "output_type": "execute_result",
          "data": {
            "text/plain": [
              "__label__ru    42961\n",
              "unknown         9858\n",
              "__label__uk     3857\n",
              "__label__en      483\n",
              "Name: text_language, dtype: int64"
            ]
          },
          "metadata": {},
          "execution_count": 194
        }
      ]
    },
    {
      "cell_type": "code",
      "source": [
        "russian_groups[russian_groups.text_language == 'unknown']"
      ],
      "metadata": {
        "colab": {
          "base_uri": "https://localhost:8080/",
          "height": 424
        },
        "id": "82x8DIA1Xfty",
        "outputId": "4093e2ae-ba51-4732-8053-e2c1737b6d77"
      },
      "execution_count": null,
      "outputs": [
        {
          "output_type": "execute_result",
          "data": {
            "text/plain": [
              "                                                      text country  \\\n",
              "1894                                          Господи !!!!  Russia   \n",
              "9033                                    Хаястан, шат лавэ.  Russia   \n",
              "11100                                                    👍  Russia   \n",
              "16687    Хахаххахахах смешно. Потому что вы сука окупан...  Russia   \n",
              "17033    🇷🇺 СЛАВА РОССИЙСКОМУ СОЛДАТУ ОСВОБОДИТЕЛЮ ОТ ф...  Russia   \n",
              "...                                                    ...     ...   \n",
              "5804726                                                NaN  Russia   \n",
              "5805955                                                NaN  Russia   \n",
              "5805962                                                NaN  Russia   \n",
              "5814107        Так он вроде по коням? \\nКониной занимался.  Russia   \n",
              "5829935                                                🤮🤮🤮  Russia   \n",
              "\n",
              "                from_id text_language  \n",
              "1894     user5253574285       unknown  \n",
              "9033     user1032870930       unknown  \n",
              "11100    user1324383761       unknown  \n",
              "16687     user725020595       unknown  \n",
              "17033     user211839394       unknown  \n",
              "...                 ...           ...  \n",
              "5804726  user5271020701       unknown  \n",
              "5805955   user327485583       unknown  \n",
              "5805962   user327485583       unknown  \n",
              "5814107  user1345772187       unknown  \n",
              "5829935   user960315881       unknown  \n",
              "\n",
              "[4452 rows x 4 columns]"
            ],
            "text/html": [
              "\n",
              "  <div id=\"df-7e003f89-98e3-408f-80f6-aefb6479c447\">\n",
              "    <div class=\"colab-df-container\">\n",
              "      <div>\n",
              "<style scoped>\n",
              "    .dataframe tbody tr th:only-of-type {\n",
              "        vertical-align: middle;\n",
              "    }\n",
              "\n",
              "    .dataframe tbody tr th {\n",
              "        vertical-align: top;\n",
              "    }\n",
              "\n",
              "    .dataframe thead th {\n",
              "        text-align: right;\n",
              "    }\n",
              "</style>\n",
              "<table border=\"1\" class=\"dataframe\">\n",
              "  <thead>\n",
              "    <tr style=\"text-align: right;\">\n",
              "      <th></th>\n",
              "      <th>text</th>\n",
              "      <th>country</th>\n",
              "      <th>from_id</th>\n",
              "      <th>text_language</th>\n",
              "    </tr>\n",
              "  </thead>\n",
              "  <tbody>\n",
              "    <tr>\n",
              "      <th>1894</th>\n",
              "      <td>Господи !!!!</td>\n",
              "      <td>Russia</td>\n",
              "      <td>user5253574285</td>\n",
              "      <td>unknown</td>\n",
              "    </tr>\n",
              "    <tr>\n",
              "      <th>9033</th>\n",
              "      <td>Хаястан, шат лавэ.</td>\n",
              "      <td>Russia</td>\n",
              "      <td>user1032870930</td>\n",
              "      <td>unknown</td>\n",
              "    </tr>\n",
              "    <tr>\n",
              "      <th>11100</th>\n",
              "      <td>👍</td>\n",
              "      <td>Russia</td>\n",
              "      <td>user1324383761</td>\n",
              "      <td>unknown</td>\n",
              "    </tr>\n",
              "    <tr>\n",
              "      <th>16687</th>\n",
              "      <td>Хахаххахахах смешно. Потому что вы сука окупан...</td>\n",
              "      <td>Russia</td>\n",
              "      <td>user725020595</td>\n",
              "      <td>unknown</td>\n",
              "    </tr>\n",
              "    <tr>\n",
              "      <th>17033</th>\n",
              "      <td>🇷🇺 СЛАВА РОССИЙСКОМУ СОЛДАТУ ОСВОБОДИТЕЛЮ ОТ ф...</td>\n",
              "      <td>Russia</td>\n",
              "      <td>user211839394</td>\n",
              "      <td>unknown</td>\n",
              "    </tr>\n",
              "    <tr>\n",
              "      <th>...</th>\n",
              "      <td>...</td>\n",
              "      <td>...</td>\n",
              "      <td>...</td>\n",
              "      <td>...</td>\n",
              "    </tr>\n",
              "    <tr>\n",
              "      <th>5804726</th>\n",
              "      <td>NaN</td>\n",
              "      <td>Russia</td>\n",
              "      <td>user5271020701</td>\n",
              "      <td>unknown</td>\n",
              "    </tr>\n",
              "    <tr>\n",
              "      <th>5805955</th>\n",
              "      <td>NaN</td>\n",
              "      <td>Russia</td>\n",
              "      <td>user327485583</td>\n",
              "      <td>unknown</td>\n",
              "    </tr>\n",
              "    <tr>\n",
              "      <th>5805962</th>\n",
              "      <td>NaN</td>\n",
              "      <td>Russia</td>\n",
              "      <td>user327485583</td>\n",
              "      <td>unknown</td>\n",
              "    </tr>\n",
              "    <tr>\n",
              "      <th>5814107</th>\n",
              "      <td>Так он вроде по коням? \\nКониной занимался.</td>\n",
              "      <td>Russia</td>\n",
              "      <td>user1345772187</td>\n",
              "      <td>unknown</td>\n",
              "    </tr>\n",
              "    <tr>\n",
              "      <th>5829935</th>\n",
              "      <td>🤮🤮🤮</td>\n",
              "      <td>Russia</td>\n",
              "      <td>user960315881</td>\n",
              "      <td>unknown</td>\n",
              "    </tr>\n",
              "  </tbody>\n",
              "</table>\n",
              "<p>4452 rows × 4 columns</p>\n",
              "</div>\n",
              "      <button class=\"colab-df-convert\" onclick=\"convertToInteractive('df-7e003f89-98e3-408f-80f6-aefb6479c447')\"\n",
              "              title=\"Convert this dataframe to an interactive table.\"\n",
              "              style=\"display:none;\">\n",
              "        \n",
              "  <svg xmlns=\"http://www.w3.org/2000/svg\" height=\"24px\"viewBox=\"0 0 24 24\"\n",
              "       width=\"24px\">\n",
              "    <path d=\"M0 0h24v24H0V0z\" fill=\"none\"/>\n",
              "    <path d=\"M18.56 5.44l.94 2.06.94-2.06 2.06-.94-2.06-.94-.94-2.06-.94 2.06-2.06.94zm-11 1L8.5 8.5l.94-2.06 2.06-.94-2.06-.94L8.5 2.5l-.94 2.06-2.06.94zm10 10l.94 2.06.94-2.06 2.06-.94-2.06-.94-.94-2.06-.94 2.06-2.06.94z\"/><path d=\"M17.41 7.96l-1.37-1.37c-.4-.4-.92-.59-1.43-.59-.52 0-1.04.2-1.43.59L10.3 9.45l-7.72 7.72c-.78.78-.78 2.05 0 2.83L4 21.41c.39.39.9.59 1.41.59.51 0 1.02-.2 1.41-.59l7.78-7.78 2.81-2.81c.8-.78.8-2.07 0-2.86zM5.41 20L4 18.59l7.72-7.72 1.47 1.35L5.41 20z\"/>\n",
              "  </svg>\n",
              "      </button>\n",
              "      \n",
              "  <style>\n",
              "    .colab-df-container {\n",
              "      display:flex;\n",
              "      flex-wrap:wrap;\n",
              "      gap: 12px;\n",
              "    }\n",
              "\n",
              "    .colab-df-convert {\n",
              "      background-color: #E8F0FE;\n",
              "      border: none;\n",
              "      border-radius: 50%;\n",
              "      cursor: pointer;\n",
              "      display: none;\n",
              "      fill: #1967D2;\n",
              "      height: 32px;\n",
              "      padding: 0 0 0 0;\n",
              "      width: 32px;\n",
              "    }\n",
              "\n",
              "    .colab-df-convert:hover {\n",
              "      background-color: #E2EBFA;\n",
              "      box-shadow: 0px 1px 2px rgba(60, 64, 67, 0.3), 0px 1px 3px 1px rgba(60, 64, 67, 0.15);\n",
              "      fill: #174EA6;\n",
              "    }\n",
              "\n",
              "    [theme=dark] .colab-df-convert {\n",
              "      background-color: #3B4455;\n",
              "      fill: #D2E3FC;\n",
              "    }\n",
              "\n",
              "    [theme=dark] .colab-df-convert:hover {\n",
              "      background-color: #434B5C;\n",
              "      box-shadow: 0px 1px 3px 1px rgba(0, 0, 0, 0.15);\n",
              "      filter: drop-shadow(0px 1px 2px rgba(0, 0, 0, 0.3));\n",
              "      fill: #FFFFFF;\n",
              "    }\n",
              "  </style>\n",
              "\n",
              "      <script>\n",
              "        const buttonEl =\n",
              "          document.querySelector('#df-7e003f89-98e3-408f-80f6-aefb6479c447 button.colab-df-convert');\n",
              "        buttonEl.style.display =\n",
              "          google.colab.kernel.accessAllowed ? 'block' : 'none';\n",
              "\n",
              "        async function convertToInteractive(key) {\n",
              "          const element = document.querySelector('#df-7e003f89-98e3-408f-80f6-aefb6479c447');\n",
              "          const dataTable =\n",
              "            await google.colab.kernel.invokeFunction('convertToInteractive',\n",
              "                                                     [key], {});\n",
              "          if (!dataTable) return;\n",
              "\n",
              "          const docLinkHtml = 'Like what you see? Visit the ' +\n",
              "            '<a target=\"_blank\" href=https://colab.research.google.com/notebooks/data_table.ipynb>data table notebook</a>'\n",
              "            + ' to learn more about interactive tables.';\n",
              "          element.innerHTML = '';\n",
              "          dataTable['output_type'] = 'display_data';\n",
              "          await google.colab.output.renderOutput(dataTable, element);\n",
              "          const docLink = document.createElement('div');\n",
              "          docLink.innerHTML = docLinkHtml;\n",
              "          element.appendChild(docLink);\n",
              "        }\n",
              "      </script>\n",
              "    </div>\n",
              "  </div>\n",
              "  "
            ]
          },
          "metadata": {},
          "execution_count": 195
        }
      ]
    },
    {
      "cell_type": "code",
      "source": [
        ""
      ],
      "metadata": {
        "id": "CW02uaI_X6Pe"
      },
      "execution_count": null,
      "outputs": []
    },
    {
      "cell_type": "code",
      "source": [
        "pip install deep-translator"
      ],
      "metadata": {
        "colab": {
          "base_uri": "https://localhost:8080/"
        },
        "id": "kogIj0VYawWE",
        "outputId": "64389e9d-d91f-4ea9-8648-5e5a5511a5ce"
      },
      "execution_count": null,
      "outputs": [
        {
          "output_type": "stream",
          "name": "stdout",
          "text": [
            "Looking in indexes: https://pypi.org/simple, https://us-python.pkg.dev/colab-wheels/public/simple/\n",
            "Collecting deep-translator\n",
            "  Downloading deep_translator-1.8.3-py3-none-any.whl (29 kB)\n",
            "Collecting beautifulsoup4<5.0.0,>=4.9.1\n",
            "  Downloading beautifulsoup4-4.11.1-py3-none-any.whl (128 kB)\n",
            "\u001b[K     |████████████████████████████████| 128 kB 5.4 MB/s \n",
            "\u001b[?25hRequirement already satisfied: requests<3.0.0,>=2.23.0 in /usr/local/lib/python3.7/dist-packages (from deep-translator) (2.23.0)\n",
            "Requirement already satisfied: soupsieve>1.2 in /usr/local/lib/python3.7/dist-packages (from beautifulsoup4<5.0.0,>=4.9.1->deep-translator) (2.3.2.post1)\n",
            "Requirement already satisfied: urllib3!=1.25.0,!=1.25.1,<1.26,>=1.21.1 in /usr/local/lib/python3.7/dist-packages (from requests<3.0.0,>=2.23.0->deep-translator) (1.24.3)\n",
            "Requirement already satisfied: idna<3,>=2.5 in /usr/local/lib/python3.7/dist-packages (from requests<3.0.0,>=2.23.0->deep-translator) (2.10)\n",
            "Requirement already satisfied: certifi>=2017.4.17 in /usr/local/lib/python3.7/dist-packages (from requests<3.0.0,>=2.23.0->deep-translator) (2022.6.15)\n",
            "Requirement already satisfied: chardet<4,>=3.0.2 in /usr/local/lib/python3.7/dist-packages (from requests<3.0.0,>=2.23.0->deep-translator) (3.0.4)\n",
            "Installing collected packages: beautifulsoup4, deep-translator\n",
            "  Attempting uninstall: beautifulsoup4\n",
            "    Found existing installation: beautifulsoup4 4.6.3\n",
            "    Uninstalling beautifulsoup4-4.6.3:\n",
            "      Successfully uninstalled beautifulsoup4-4.6.3\n",
            "Successfully installed beautifulsoup4-4.11.1 deep-translator-1.8.3\n"
          ]
        }
      ]
    },
    {
      "cell_type": "code",
      "source": [
        "from deep_translator import GoogleTranslator"
      ],
      "metadata": {
        "id": "-EeHjvFybXrW"
      },
      "execution_count": null,
      "outputs": []
    },
    {
      "cell_type": "code",
      "source": [
        "translated = GoogleTranslator(source='auto', target='en').translate(\"привет как дела?\")"
      ],
      "metadata": {
        "id": "Y7sk8nYod1kr"
      },
      "execution_count": null,
      "outputs": []
    },
    {
      "cell_type": "code",
      "source": [
        "translated"
      ],
      "metadata": {
        "colab": {
          "base_uri": "https://localhost:8080/",
          "height": 35
        },
        "id": "1Pp_V7btd4GZ",
        "outputId": "96219a15-5596-4c0f-89d4-19cb667c38db"
      },
      "execution_count": null,
      "outputs": [
        {
          "output_type": "execute_result",
          "data": {
            "text/plain": [
              "'Hello how are you?'"
            ],
            "application/vnd.google.colaboratory.intrinsic+json": {
              "type": "string"
            }
          },
          "metadata": {},
          "execution_count": 243
        }
      ]
    },
    {
      "cell_type": "code",
      "source": [
        "len(ukrainian_groups)"
      ],
      "metadata": {
        "colab": {
          "base_uri": "https://localhost:8080/"
        },
        "id": "zysfjz5oeHXC",
        "outputId": "11016a31-6bbd-4dff-f7de-89844fed9b0d"
      },
      "execution_count": null,
      "outputs": [
        {
          "output_type": "execute_result",
          "data": {
            "text/plain": [
              "57159"
            ]
          },
          "metadata": {},
          "execution_count": 245
        }
      ]
    },
    {
      "cell_type": "code",
      "source": [
        "def translate(text):\n",
        "  try:\n",
        "    sent = GoogleTranslator(source='auto', target='en').translate(\"привет как дела?\")\n",
        "    return sent\n",
        "  except:\n",
        "    return 'error'"
      ],
      "metadata": {
        "id": "7glgSN72eJOw"
      },
      "execution_count": null,
      "outputs": []
    },
    {
      "cell_type": "code",
      "source": [
        "ukrainian_groups['text_eng'] = ukrainian_groups['text'].apply(lambda x: translate(x))"
      ],
      "metadata": {
        "id": "7BJZgYDDd-pC"
      },
      "execution_count": null,
      "outputs": []
    },
    {
      "cell_type": "code",
      "source": [
        ""
      ],
      "metadata": {
        "id": "-0w_ewQ-gW5g"
      },
      "execution_count": null,
      "outputs": []
    },
    {
      "cell_type": "markdown",
      "source": [
        "# Vader"
      ],
      "metadata": {
        "id": "RAS06dbpa-SL"
      }
    },
    {
      "cell_type": "code",
      "source": [
        "def sentiment_scores(sentence):\n",
        " \n",
        "    # Create a SentimentIntensityAnalyzer object.\n",
        "    sid_obj = SentimentIntensityAnalyzer()\n",
        " \n",
        "    # polarity_scores method of SentimentIntensityAnalyzer\n",
        "    # object gives a sentiment dictionary.\n",
        "    # which contains pos, neg, neu, and compound scores.\n",
        "    sentiment_dict = sid_obj.polarity_scores(sentence)\n",
        "     \n",
        "    print(\"Overall sentiment dpip3 install googletransictionary is : \", sentiment_dict)\n",
        "    print(\"sentence was rated as \", sentiment_dict['neg']*100, \"% Negative\")\n",
        "    print(\"sentence was rated as \", sentiment_dict['neu']*100, \"% Neutral\")\n",
        "    print(\"sentence was rated as \", sentiment_dict['pos']*100, \"% Positive\")\n",
        " \n",
        "    print(\"Sentence Overall Rated As\", end = \" \")\n",
        " \n",
        "    # decide sentiment as positive, negative and neutral\n",
        "    if sentiment_dict['compound'] >= 0.05 :\n",
        "        print(\"Positive\")\n",
        " \n",
        "    elif sentiment_dict['compound'] <= - 0.05 :\n",
        "        print(\"Negative\")\n",
        " \n",
        "    else :\n",
        "        print(\"Neutral\")"
      ],
      "metadata": {
        "id": "H2WrMf5ObJSc"
      },
      "execution_count": null,
      "outputs": []
    },
    {
      "cell_type": "code",
      "source": [
        "sentiment_scores('Я тебе ненавиджу!')"
      ],
      "metadata": {
        "colab": {
          "base_uri": "https://localhost:8080/"
        },
        "id": "76ZLAhhobJgD",
        "outputId": "2458b9a5-fb1d-4746-97ec-15489576f738"
      },
      "execution_count": null,
      "outputs": [
        {
          "output_type": "stream",
          "name": "stdout",
          "text": [
            "Overall sentiment dictionary is :  {'neg': 0.0, 'neu': 1.0, 'pos': 0.0, 'compound': 0.0}\n",
            "sentence was rated as  0.0 % Negative\n",
            "sentence was rated as  100.0 % Neutral\n",
            "sentence was rated as  0.0 % Positive\n",
            "Sentence Overall Rated As Neutral\n"
          ]
        }
      ]
    },
    {
      "cell_type": "code",
      "source": [
        ""
      ],
      "metadata": {
        "id": "41hLwrgicRrG"
      },
      "execution_count": null,
      "outputs": []
    }
  ]
}